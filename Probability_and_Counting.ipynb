{
  "nbformat": 4,
  "nbformat_minor": 0,
  "metadata": {
    "colab": {
      "name": "Probability and Counting",
      "provenance": [],
      "include_colab_link": true
    },
    "kernelspec": {
      "display_name": "Python 3",
      "name": "python3"
    }
  },
  "cells": [
    {
      "cell_type": "markdown",
      "metadata": {
        "id": "view-in-github",
        "colab_type": "text"
      },
      "source": [
        "<a href=\"https://colab.research.google.com/github/sovikapoudel/discrete-math-basics/blob/main/Probability_and_Counting.ipynb\" target=\"_parent\"><img src=\"https://colab.research.google.com/assets/colab-badge.svg\" alt=\"Open In Colab\"/></a>"
      ]
    },
    {
      "cell_type": "markdown",
      "metadata": {
        "id": "YCJaepmmfKrS"
      },
      "source": [
        "# Project Part # 2: CPSMA 3133 [Dr. Jacob's](https://github.com/nurfnick) Discrete Mathematics \n",
        "\n",
        "## Probability and Counting\n",
        "\n",
        "### Dr. Jacob's Incorrect Submission\n",
        "\n",
        "\n"
      ]
    },
    {
      "cell_type": "markdown",
      "metadata": {
        "id": "Xs_Pvtua1Nnt"
      },
      "source": [
        "## 1 Probability"
      ]
    },
    {
      "cell_type": "code",
      "metadata": {
        "colab": {
          "background_save": true
        },
        "id": "plf_GVPV-hyk"
      },
      "source": [
        ""
      ],
      "execution_count": null,
      "outputs": []
    },
    {
      "cell_type": "markdown",
      "metadata": {
        "id": "2z6U1aB_fQDM"
      },
      "source": [
        "I am going to do roll a dice! The probability of hitting a multiple of $3$, is $\\frac13$, getting num greater than $3$, is $\\frac 12$ and rolling, $3$, is $\\frac16$.\n",
        "\n",
        "probability of getting a reminder 2 is mod5 and mod 4"
      ]
    },
    {
      "cell_type": "code",
      "metadata": {
        "colab": {
          "base_uri": "https://localhost:8080/"
        },
        "id": "rU_BgC_kfH7g",
        "outputId": "ad8b91d5-5343-472e-dd6e-b93c012bbea3"
      },
      "source": [
        " p =[1/3,1/2,1/6]\n",
        "\n",
        " sum(p) #everyone is positive and sum is 1\n",
        "\n"
      ],
      "execution_count": null,
      "outputs": [
        {
          "data": {
            "text/plain": [
              "0.9999999999999999"
            ]
          },
          "execution_count": 9,
          "metadata": {},
          "output_type": "execute_result"
        }
      ]
    },
    {
      "cell_type": "code",
      "metadata": {
        "colab": {
          "base_uri": "https://localhost:8080/"
        },
        "id": "RteoCGFJyL5Y",
        "outputId": "328b8fb2-09ba-45b1-bef0-438956bb4aa6"
      },
      "source": [
        ""
      ],
      "execution_count": null,
      "outputs": [
        {
          "data": {
            "text/plain": [
              "[0.2222222222222222,\n",
              " 0.1111111111111111,\n",
              " 0.6666666666666666,\n",
              " 0.2222222222222222,\n",
              " 0.1111111111111111,\n",
              " 0.6666666666666666,\n",
              " 0.2222222222222222,\n",
              " 0.1111111111111111,\n",
              " 0.6666666666666666,\n",
              " 0.2222222222222222,\n",
              " 0.1111111111111111,\n",
              " 0.6666666666666666,\n",
              " 0.2222222222222222,\n",
              " 0.1111111111111111,\n",
              " 0.6666666666666666,\n",
              " 0.2222222222222222,\n",
              " 0.1111111111111111,\n",
              " 0.6666666666666666,\n",
              " 0.2222222222222222,\n",
              " 0.1111111111111111,\n",
              " 0.6666666666666666,\n",
              " 0.2222222222222222,\n",
              " 0.1111111111111111,\n",
              " 0.6666666666666666,\n",
              " 0.2222222222222222,\n",
              " 0.1111111111111111,\n",
              " 0.6666666666666666]"
            ]
          },
          "execution_count": 10,
          "metadata": {},
          "output_type": "execute_result"
        }
      ]
    },
    {
      "cell_type": "markdown",
      "metadata": {
        "id": "Iggon6VK1Vxo"
      },
      "source": [
        "A compound event is getting another roll after the comeout roll so that would be a natural or setting the point.  Let's call that roll again $R$"
      ]
    },
    {
      "cell_type": "code",
      "metadata": {
        "colab": {
          "base_uri": "https://localhost:8080/"
        },
        "id": "kCHzuVw5vvJ6",
        "outputId": "c525e74f-0b66-451c-82db-66dc293fa00f"
      },
      "source": [
        "ProbabilityR = 0\n",
        "#we will find the probability if getting even number on a die\n",
        "for i in [0,2]:\n",
        "  ProbabilityR += p[i]\n",
        "\n",
        "ProbabilityR"
      ],
      "execution_count": null,
      "outputs": [
        {
          "data": {
            "text/plain": [
              "0.5"
            ]
          },
          "execution_count": 26,
          "metadata": {},
          "output_type": "execute_result"
        }
      ]
    },
    {
      "cell_type": "markdown",
      "metadata": {
        "id": "-Xx3fefvwTx8"
      },
      "source": [
        "What is the probability of a getting multiple of 3 given you get another roll\n",
        "\n",
        "$$\n",
        "P(T|R)=\\frac{P(T\\cap R)}{P(R)}\n",
        "$$"
      ]
    },
    {
      "cell_type": "code",
      "metadata": {
        "colab": {
          "base_uri": "https://localhost:8080/"
        },
        "id": "fIWFh9RfwyO0",
        "outputId": "d80ba158-53d0-4a80-b188-d25143343eaf"
      },
      "source": [
        "1/3/ProbabilityR"
      ],
      "execution_count": null,
      "outputs": [
        {
          "data": {
            "text/plain": [
              "0.6666666666666666"
            ]
          },
          "execution_count": 24,
          "metadata": {},
          "output_type": "execute_result"
        }
      ]
    },
    {
      "cell_type": "markdown",
      "metadata": {
        "id": "RY7HVZ2q0MYw"
      },
      "source": [
        "As for the probability of getting another roll given that you have a multiple of 3, we see that that is 100%.\n",
        "\n",
        "To apply Bayes' let's at least get the formula!\n",
        "\n",
        "$$\n",
        "P(N|R) = \\frac{P(N)P(R|N)}{P(R)}\n",
        "$$"
      ]
    },
    {
      "cell_type": "code",
      "metadata": {
        "colab": {
          "base_uri": "https://localhost:8080/"
        },
        "id": "DzLdXQ9l1VwT",
        "outputId": "048a2652-c504-46a1-8dd0-2cc88131ab12"
      },
      "source": [
        ".25 == (2/9 * 1)/ProbabilityR"
      ],
      "execution_count": null,
      "outputs": [
        {
          "data": {
            "text/plain": [
              "False"
            ]
          },
          "execution_count": 25,
          "metadata": {},
          "output_type": "execute_result"
        }
      ]
    },
    {
      "cell_type": "markdown",
      "metadata": {
        "id": "oZlnvFzUxAEh"
      },
      "source": [
        "Time for the hard part, simulation!  I need frequency counts not probabilities so I'll multiply every probabilty by 9"
      ]
    },
    {
      "cell_type": "code",
      "metadata": {
        "id": "rcLbKtBfzCTQ"
      },
      "source": [
        "p6 = [6*i for i in p]"
      ],
      "execution_count": null,
      "outputs": []
    },
    {
      "cell_type": "code",
      "metadata": {
        "colab": {
          "base_uri": "https://localhost:8080/"
        },
        "id": "sAueNdZczO3S",
        "outputId": "6ae27ac3-cbb7-498d-9696-b369d7c3e2c3"
      },
      "source": [
        "p6"
      ],
      "execution_count": null,
      "outputs": [
        {
          "data": {
            "text/plain": [
              "[2.0, 3.0, 1.0]"
            ]
          },
          "execution_count": 15,
          "metadata": {},
          "output_type": "execute_result"
        }
      ]
    },
    {
      "cell_type": "code",
      "metadata": {
        "colab": {
          "base_uri": "https://localhost:8080/"
        },
        "id": "3014601TxgnX",
        "outputId": "f10fecb2-716a-4cde-b7f0-97d73e3e617f"
      },
      "source": [
        "from random import choices\n",
        "\n",
        "\n",
        "choices(['Multiple of Three','Even num greater than 3','Hitting 3'],p6,k=7)"
      ],
      "execution_count": null,
      "outputs": [
        {
          "data": {
            "text/plain": [
              "['Even num greater than 3',\n",
              " 'Hitting 3',\n",
              " 'Multiple of Three',\n",
              " 'Hitting 3',\n",
              " 'Even num greater than 3',\n",
              " 'Even num greater than 3',\n",
              " 'Even num greater than 3']"
            ]
          },
          "execution_count": 23,
          "metadata": {},
          "output_type": "execute_result"
        }
      ]
    },
    {
      "cell_type": "markdown",
      "metadata": {
        "id": "UKPjbjzCzeOS"
      },
      "source": [
        "Random is exactly that!  I got only setting the point!  That is fun!"
      ]
    },
    {
      "cell_type": "markdown",
      "metadata": {
        "id": "_7RoPTU_hXG1"
      },
      "source": [
        "## 2 Counting"
      ]
    },
    {
      "cell_type": "markdown",
      "metadata": {
        "id": "MMXFYCZ6hajg"
      },
      "source": [
        "There are three options in my sequence of ten so there are $3^{10}$ options! "
      ]
    },
    {
      "cell_type": "code",
      "metadata": {
        "colab": {
          "base_uri": "https://localhost:8080/"
        },
        "id": "5U5T3Fld5X0S",
        "outputId": "779f27bd-9d28-4791-cec8-f498d4bdf497"
      },
      "source": [
        "3**10"
      ],
      "execution_count": null,
      "outputs": [
        {
          "data": {
            "text/plain": [
              "59049"
            ]
          },
          "execution_count": 18,
          "metadata": {},
          "output_type": "execute_result"
        }
      ]
    },
    {
      "cell_type": "markdown",
      "metadata": {
        "id": "ImYyRFx919R5"
      },
      "source": [
        "If order didn't matter than you'd have to use the more complicated formula since there is replacement!  If there are $n$ objects and $k$ slots but order does not matter, the number of ways to do this is\n",
        "\n",
        "$$\n",
        "\\binom{n+k-1}k\n",
        "$$"
      ]
    },
    {
      "cell_type": "code",
      "metadata": {
        "colab": {
          "base_uri": "https://localhost:8080/"
        },
        "id": "soDP2kUs14PV",
        "outputId": "6d055d84-98fc-4095-eeb5-8ba7b205d9ee"
      },
      "source": [
        "import math\n",
        "\n",
        "math.factorial(12)/(math.factorial(10)*math.factorial(2))"
      ],
      "execution_count": null,
      "outputs": [
        {
          "data": {
            "text/plain": [
              "66.0"
            ]
          },
          "execution_count": 25,
          "metadata": {},
          "output_type": "execute_result"
        }
      ]
    },
    {
      "cell_type": "markdown",
      "metadata": {
        "id": "ESWM5QfO6s8O"
      },
      "source": [
        "That is a huge difference!\n",
        "\n",
        "I cannot do ten without replacement, actually I can only do three at the most...\n",
        "\n",
        "If order matters it is $3!$ and if not $\\binom33$."
      ]
    },
    {
      "cell_type": "code",
      "metadata": {
        "colab": {
          "base_uri": "https://localhost:8080/"
        },
        "id": "8rU6K0XU2e9w",
        "outputId": "16f4cb0e-dedc-4712-efab-204877afbc89"
      },
      "source": [
        "math.factorial(3)"
      ],
      "execution_count": null,
      "outputs": [
        {
          "data": {
            "text/plain": [
              "6"
            ]
          },
          "execution_count": 26,
          "metadata": {},
          "output_type": "execute_result"
        }
      ]
    },
    {
      "cell_type": "code",
      "metadata": {
        "colab": {
          "base_uri": "https://localhost:8080/"
        },
        "id": "xX_OCLDv6d1k",
        "outputId": "2a98339f-f565-4ff8-96d3-b29a3709c970"
      },
      "source": [
        "math.factorial(3)/(math.factorial(0)*math.factorial(3))"
      ],
      "execution_count": null,
      "outputs": [
        {
          "data": {
            "text/plain": [
              "1.0"
            ]
          },
          "execution_count": 27,
          "metadata": {},
          "output_type": "execute_result"
        }
      ]
    },
    {
      "cell_type": "markdown",
      "metadata": {
        "id": "23l2G0lW7tPZ"
      },
      "source": [
        "I'll leave the last question for y'all"
      ]
    },
    {
      "cell_type": "code",
      "metadata": {
        "id": "KgmgYzYL7mOr"
      },
      "source": [
        ""
      ],
      "execution_count": null,
      "outputs": []
    }
  ]
}