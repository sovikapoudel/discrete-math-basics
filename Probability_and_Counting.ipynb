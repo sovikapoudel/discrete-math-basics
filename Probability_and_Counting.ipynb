{
  "nbformat": 4,
  "nbformat_minor": 0,
  "metadata": {
    "colab": {
      "name": "Probability and Counting",
      "provenance": [],
      "include_colab_link": true
    },
    "kernelspec": {
      "display_name": "Python 3",
      "name": "python3"
    }
  },
  "cells": [
    {
      "cell_type": "markdown",
      "metadata": {
        "id": "view-in-github",
        "colab_type": "text"
      },
      "source": [
        "<a href=\"https://colab.research.google.com/github/sovikapoudel/discrete-math-basics/blob/main/Probability_and_Counting.ipynb\" target=\"_parent\"><img src=\"https://colab.research.google.com/assets/colab-badge.svg\" alt=\"Open In Colab\"/></a>"
      ]
    },
    {
      "cell_type": "markdown",
      "metadata": {
        "id": "YCJaepmmfKrS"
      },
      "source": [
        "# Project Part # 2: Discrete Mathematics \n",
        "\n",
        "## Author: Sovika Poudel\n",
        "##Title: Discrete Mathematics Project, Fall 2021 \n",
        "##Projects on Probability and Counting\n",
        "##Instrutor: Dr. Nicolos Jacob\n",
        "###*Note: to get all the code working, it must be run sequentially* \n",
        "\n",
        "\n",
        "\n",
        "\n"
      ]
    },
    {
      "cell_type": "markdown",
      "metadata": {
        "id": "Xs_Pvtua1Nnt"
      },
      "source": [
        "## 1 Probability"
      ]
    },
    {
      "cell_type": "markdown",
      "metadata": {
        "id": "2z6U1aB_fQDM"
      },
      "source": [
        "I am going to do roll a dice! The probability of hitting a multiple of $3$, $T$, is $\\frac13$, getting num greater than $3$, $G$, is $\\frac 12$ and rolling, $3$, $S$ is $\\frac16$.\n"
      ]
    },
    {
      "cell_type": "code",
      "metadata": {
        "id": "rU_BgC_kfH7g",
        "colab": {
          "base_uri": "https://localhost:8080/"
        },
        "outputId": "2434e214-e006-44ba-f6f5-f3c7e0b4a240"
      },
      "source": [
        " p =[1/3,1/2,1/6]\n",
        "\n",
        "sum(p) #everyone is positive and sum must equal to 1\n"
      ],
      "execution_count": 55,
      "outputs": [
        {
          "output_type": "execute_result",
          "data": {
            "text/plain": [
              "0.9999999999999999"
            ]
          },
          "metadata": {},
          "execution_count": 55
        }
      ]
    },
    {
      "cell_type": "code",
      "metadata": {
        "id": "RteoCGFJyL5Y"
      },
      "source": [
        ""
      ],
      "execution_count": 55,
      "outputs": []
    },
    {
      "cell_type": "markdown",
      "metadata": {
        "id": "Iggon6VK1Vxo"
      },
      "source": [
        "A compound event means having more than 1 outcome from a event. In simple words, it's a combination of two simple events so getting another roll after the comeout roll so that would be a multiple of 3 or rolling 3.  Let's call that roll again $R$"
      ]
    },
    {
      "cell_type": "code",
      "metadata": {
        "id": "kCHzuVw5vvJ6",
        "colab": {
          "base_uri": "https://localhost:8080/"
        },
        "outputId": "44793136-988a-41ca-b2bd-84a27e68a3e8"
      },
      "source": [
        "ProbabilityR = 0\n",
        "#we will find the probability if getting even number on a die\n",
        "for i in [0,2]:\n",
        "  ProbabilityR += p[i]\n",
        "\n",
        "ProbabilityR"
      ],
      "execution_count": 56,
      "outputs": [
        {
          "output_type": "execute_result",
          "data": {
            "text/plain": [
              "0.5"
            ]
          },
          "metadata": {},
          "execution_count": 56
        }
      ]
    },
    {
      "cell_type": "markdown",
      "metadata": {
        "id": "tsn3xJE9e716"
      },
      "source": [
        "Now, for the intersection and union let's have 2 compound events. Since we already have Roll R, let N be next roll. "
      ]
    },
    {
      "cell_type": "code",
      "metadata": {
        "id": "rgvxoHZyfknE"
      },
      "source": [
        "ProbabilityN= p[0]"
      ],
      "execution_count": 57,
      "outputs": []
    },
    {
      "cell_type": "markdown",
      "metadata": {
        "id": "Baq5-SHUdGnC"
      },
      "source": [
        "Now finding the union and intersection of the coumpound event"
      ]
    },
    {
      "cell_type": "markdown",
      "metadata": {
        "id": "xGP_YxBqYTAr"
      },
      "source": [
        "So now we will llook into intersetion, $R\\cap T$  and union, $R\\cup T$.\n",
        "\n",
        "\n",
        "$$\n",
        "Pr(R\\cup W) = Pr(R) + Pr(W) - Pr(R\\cap T)\n",
        "$$\n"
      ]
    },
    {
      "cell_type": "code",
      "metadata": {
        "colab": {
          "base_uri": "https://localhost:8080/"
        },
        "id": "Nef7PPxDYSvL",
        "outputId": "774ff7f2-6a71-4005-f4e4-43e0469bcb56"
      },
      "source": [
        "RintersectN = p[0]\n",
        "RunionN=ProbabilityR+ProbabilityN-RintersectN\n",
        "RunionN\n"
      ],
      "execution_count": 58,
      "outputs": [
        {
          "output_type": "execute_result",
          "data": {
            "text/plain": [
              "0.49999999999999994"
            ]
          },
          "metadata": {},
          "execution_count": 58
        }
      ]
    },
    {
      "cell_type": "markdown",
      "metadata": {
        "id": "-Xx3fefvwTx8"
      },
      "source": [
        "What is the probability of a getting multiple of 3 given you get another roll\n",
        "\n",
        "$$\n",
        "P(T|R)=\\frac{P(T\\cap R)}{P(R)}\n",
        "$$"
      ]
    },
    {
      "cell_type": "code",
      "metadata": {
        "id": "fIWFh9RfwyO0",
        "colab": {
          "base_uri": "https://localhost:8080/"
        },
        "outputId": "efcf5fde-061a-45af-9658-fbec05ebaad4"
      },
      "source": [
        "1/3/ProbabilityR"
      ],
      "execution_count": 59,
      "outputs": [
        {
          "output_type": "execute_result",
          "data": {
            "text/plain": [
              "0.6666666666666666"
            ]
          },
          "metadata": {},
          "execution_count": 59
        }
      ]
    },
    {
      "cell_type": "markdown",
      "metadata": {
        "id": "fjgxTlCHVLzk"
      },
      "source": [
        "###Now, finding other probabilities\n",
        "####the probability of a getting number greater than 3 given you get another roll, let it denoted by $G$\n",
        "$$\n",
        "P(G|R)=\\frac{P(G\\cap R)}{P(R)}\n",
        "$$"
      ]
    },
    {
      "cell_type": "code",
      "metadata": {
        "colab": {
          "base_uri": "https://localhost:8080/"
        },
        "id": "JuCFwGNqZYeI",
        "outputId": "75a8d981-3a5c-4a96-fdc8-4ad404d35013"
      },
      "source": [
        "1/2/ProbabilityR"
      ],
      "execution_count": 60,
      "outputs": [
        {
          "output_type": "execute_result",
          "data": {
            "text/plain": [
              "1.0"
            ]
          },
          "metadata": {},
          "execution_count": 60
        }
      ]
    },
    {
      "cell_type": "markdown",
      "metadata": {
        "id": "_wlmHx88aR5V"
      },
      "source": [
        "What is the probability of a getting number 3 given you get another roll\n",
        "\n",
        "$$\n",
        "P(S|R)=\\frac{P(S\\cap R)}{P(R)}\n",
        "$$"
      ]
    },
    {
      "cell_type": "code",
      "metadata": {
        "colab": {
          "base_uri": "https://localhost:8080/"
        },
        "id": "whPlCxX8aRUU",
        "outputId": "9d191aad-a4f9-4c62-cae2-a202880fa502"
      },
      "source": [
        "1/6/ProbabilityR"
      ],
      "execution_count": 61,
      "outputs": [
        {
          "output_type": "execute_result",
          "data": {
            "text/plain": [
              "0.3333333333333333"
            ]
          },
          "metadata": {},
          "execution_count": 61
        }
      ]
    },
    {
      "cell_type": "markdown",
      "metadata": {
        "id": "RY7HVZ2q0MYw"
      },
      "source": [
        "As for the probability of getting another roll given that you have a multiple of 3, we see that that is 100%.\n",
        "\n",
        "Applying 'Bayes theorem' which gives a conditional probability without joint probability!\n",
        "\n",
        "$$\n",
        "P(T|R) = \\frac{P(T)P(R|T)}{P(R)}\n",
        "$$"
      ]
    },
    {
      "cell_type": "code",
      "metadata": {
        "id": "DzLdXQ9l1VwT",
        "colab": {
          "base_uri": "https://localhost:8080/"
        },
        "outputId": "08d287ce-57c8-4964-d7d9-72bb9f557a46"
      },
      "source": [
        ".666666666666666666666== (1/3 * 1)/ProbabilityR"
      ],
      "execution_count": 62,
      "outputs": [
        {
          "output_type": "execute_result",
          "data": {
            "text/plain": [
              "True"
            ]
          },
          "metadata": {},
          "execution_count": 62
        }
      ]
    },
    {
      "cell_type": "code",
      "metadata": {
        "id": "WebwciuXVGMS",
        "colab": {
          "base_uri": "https://localhost:8080/"
        },
        "outputId": "a7b76a61-a2b3-4439-c190-a4898e7dfc48"
      },
      "source": [
        "1/2/ProbabilityR"
      ],
      "execution_count": 63,
      "outputs": [
        {
          "output_type": "execute_result",
          "data": {
            "text/plain": [
              "1.0"
            ]
          },
          "metadata": {},
          "execution_count": 63
        }
      ]
    },
    {
      "cell_type": "code",
      "metadata": {
        "id": "PMIJ1X58Wz-P",
        "colab": {
          "base_uri": "https://localhost:8080/"
        },
        "outputId": "12ae16ea-6915-4bee-b892-40e85cfc1fff"
      },
      "source": [
        "1==(1/2*1)/ProbabilityR"
      ],
      "execution_count": 64,
      "outputs": [
        {
          "output_type": "execute_result",
          "data": {
            "text/plain": [
              "True"
            ]
          },
          "metadata": {},
          "execution_count": 64
        }
      ]
    },
    {
      "cell_type": "markdown",
      "metadata": {
        "id": "oZlnvFzUxAEh"
      },
      "source": [
        "Time for the hard part, simulation!  I need frequency counts not probabilities so I'll multiply every probabilty by 6"
      ]
    },
    {
      "cell_type": "code",
      "metadata": {
        "id": "rcLbKtBfzCTQ"
      },
      "source": [
        "p6 = [6*i for i in p]\n",
        "p=[1/3,1/2,1/6]"
      ],
      "execution_count": 65,
      "outputs": []
    },
    {
      "cell_type": "code",
      "metadata": {
        "id": "sAueNdZczO3S",
        "colab": {
          "base_uri": "https://localhost:8080/"
        },
        "outputId": "46416389-4511-443d-a708-6c01d37835c3"
      },
      "source": [
        "p6 \n",
        "print (p6)\n",
        "sum (p6) #sum should add to 6"
      ],
      "execution_count": 66,
      "outputs": [
        {
          "output_type": "stream",
          "name": "stdout",
          "text": [
            "[2.0, 3.0, 1.0]\n"
          ]
        },
        {
          "output_type": "execute_result",
          "data": {
            "text/plain": [
              "6.0"
            ]
          },
          "metadata": {},
          "execution_count": 66
        }
      ]
    },
    {
      "cell_type": "code",
      "metadata": {
        "id": "3014601TxgnX",
        "colab": {
          "base_uri": "https://localhost:8080/"
        },
        "outputId": "ec8fa0b1-c120-4d9c-bfc4-826d60a24b3d"
      },
      "source": [
        "from random import choices\n",
        "\n",
        "\n",
        "choices(['Multiple of three','Num greater than three','Hitting three'],p6,k=7)"
      ],
      "execution_count": 67,
      "outputs": [
        {
          "output_type": "execute_result",
          "data": {
            "text/plain": [
              "['Hitting three',\n",
              " 'Num greater than three',\n",
              " 'Num greater than three',\n",
              " 'Num greater than three',\n",
              " 'Multiple of three',\n",
              " 'Num greater than three',\n",
              " 'Num greater than three']"
            ]
          },
          "metadata": {},
          "execution_count": 67
        }
      ]
    },
    {
      "cell_type": "markdown",
      "metadata": {
        "id": "UKPjbjzCzeOS"
      },
      "source": [
        "In this context, Random is a built in module which can return a random item from any given list, string or tuple. It will generate the new answer every time the code is executed which is why it is called 'Random'."
      ]
    },
    {
      "cell_type": "code",
      "metadata": {
        "id": "Bw6i45UAhSDR"
      },
      "source": [
        "DiceRoll= choices(['Multiple of three','Num greater than three','Hitting three'],p6, k=7)\n",
        "\n",
        "CountMultipleOfThree=0\n",
        "CountNumGreaterThanThree=0\n",
        "CountHittingThree=0\n",
        "\n",
        "for i in DiceRoll:\n",
        "  if i=='Multiple of three':\n",
        "    CountMultipleOfThree +=1\n",
        "  elif i=='Num greater than three':\n",
        "    CountNumGreaterThanThree +=1\n",
        "  elif i=='Hitting three':\n",
        "    CountHittingThree +=1\n",
        "\n",
        "estimateProbability = [CountMultipleOfThree/len(DiceRoll),CountNumGreaterThanThree/len(DiceRoll),CountHittingThree/len(DiceRoll)]\n",
        "\n"
      ],
      "execution_count": 68,
      "outputs": []
    },
    {
      "cell_type": "code",
      "metadata": {
        "colab": {
          "base_uri": "https://localhost:8080/"
        },
        "id": "hxW_8FOekPIE",
        "outputId": "10aaf30a-be47-4442-9b84-8edf62a7a647"
      },
      "source": [
        "estimateProbability"
      ],
      "execution_count": 69,
      "outputs": [
        {
          "output_type": "execute_result",
          "data": {
            "text/plain": [
              "[0.2857142857142857, 0.7142857142857143, 0.0]"
            ]
          },
          "metadata": {},
          "execution_count": 69
        }
      ]
    },
    {
      "cell_type": "markdown",
      "metadata": {
        "id": "_7RoPTU_hXG1"
      },
      "source": [
        "## 2 Counting"
      ]
    },
    {
      "cell_type": "markdown",
      "metadata": {
        "id": "MMXFYCZ6hajg"
      },
      "source": [
        "*Let* there be four options in my sequence of 10 so there are $4^{10}$ options! "
      ]
    },
    {
      "cell_type": "code",
      "metadata": {
        "id": "5U5T3Fld5X0S",
        "colab": {
          "base_uri": "https://localhost:8080/"
        },
        "outputId": "fa103161-2a5c-4152-845f-c881736dbfe1"
      },
      "source": [
        "4**10"
      ],
      "execution_count": 70,
      "outputs": [
        {
          "output_type": "execute_result",
          "data": {
            "text/plain": [
              "1048576"
            ]
          },
          "metadata": {},
          "execution_count": 70
        }
      ]
    },
    {
      "cell_type": "markdown",
      "metadata": {
        "id": "ImYyRFx919R5"
      },
      "source": [
        "If order doesn't matter for $n$ objects and $k$ slots, the number of ways to do is determined by\n",
        "\n",
        "$$\n",
        "\\binom{n+k-1}k\n",
        "$$"
      ]
    },
    {
      "cell_type": "code",
      "metadata": {
        "colab": {
          "base_uri": "https://localhost:8080/"
        },
        "id": "soDP2kUs14PV",
        "outputId": "9e1b1af3-200d-4dee-f137-12a8cc3276e9"
      },
      "source": [
        "import math\n",
        "\n",
        "math.factorial(13)/(math.factorial(10)*math.factorial(3))"
      ],
      "execution_count": 71,
      "outputs": [
        {
          "output_type": "execute_result",
          "data": {
            "text/plain": [
              "286.0"
            ]
          },
          "metadata": {},
          "execution_count": 71
        }
      ]
    },
    {
      "cell_type": "markdown",
      "metadata": {
        "id": "ESWM5QfO6s8O"
      },
      "source": [
        "Here comes the permutation and Combination\n",
        "If order matters it is $4!$ which is also by permutation and if not $\\binom44$ which is Combination."
      ]
    },
    {
      "cell_type": "code",
      "metadata": {
        "id": "8rU6K0XU2e9w",
        "colab": {
          "base_uri": "https://localhost:8080/"
        },
        "outputId": "6d5406fd-fab4-4da8-a5bd-3cf2ac2182c7"
      },
      "source": [
        "math.factorial(4) #permutation, when order matters"
      ],
      "execution_count": 72,
      "outputs": [
        {
          "output_type": "execute_result",
          "data": {
            "text/plain": [
              "24"
            ]
          },
          "metadata": {},
          "execution_count": 72
        }
      ]
    },
    {
      "cell_type": "code",
      "metadata": {
        "colab": {
          "base_uri": "https://localhost:8080/"
        },
        "id": "xX_OCLDv6d1k",
        "outputId": "39d04e25-6f7f-42f3-a48a-3140654eda3b"
      },
      "source": [
        "math.factorial(4)/(math.factorial(0)*math.factorial(4)) #combination when order does not matter"
      ],
      "execution_count": 73,
      "outputs": [
        {
          "output_type": "execute_result",
          "data": {
            "text/plain": [
              "1.0"
            ]
          },
          "metadata": {},
          "execution_count": 73
        }
      ]
    },
    {
      "cell_type": "markdown",
      "metadata": {
        "id": "6KwPuUZVnmY3"
      },
      "source": [
        "Using the library `itertools` and the function `combinations_with_replacement`"
      ]
    },
    {
      "cell_type": "code",
      "metadata": {
        "colab": {
          "base_uri": "https://localhost:8080/"
        },
        "id": "6nrmeb-SniPP",
        "outputId": "c166fc5a-c485-4180-f4fe-045253c8747b"
      },
      "source": [
        "from itertools import combinations_with_replacement\n",
        "print(list(combinations_with_replacement([1,2,3],10)))"
      ],
      "execution_count": 74,
      "outputs": [
        {
          "output_type": "stream",
          "name": "stdout",
          "text": [
            "[(1, 1, 1, 1, 1, 1, 1, 1, 1, 1), (1, 1, 1, 1, 1, 1, 1, 1, 1, 2), (1, 1, 1, 1, 1, 1, 1, 1, 1, 3), (1, 1, 1, 1, 1, 1, 1, 1, 2, 2), (1, 1, 1, 1, 1, 1, 1, 1, 2, 3), (1, 1, 1, 1, 1, 1, 1, 1, 3, 3), (1, 1, 1, 1, 1, 1, 1, 2, 2, 2), (1, 1, 1, 1, 1, 1, 1, 2, 2, 3), (1, 1, 1, 1, 1, 1, 1, 2, 3, 3), (1, 1, 1, 1, 1, 1, 1, 3, 3, 3), (1, 1, 1, 1, 1, 1, 2, 2, 2, 2), (1, 1, 1, 1, 1, 1, 2, 2, 2, 3), (1, 1, 1, 1, 1, 1, 2, 2, 3, 3), (1, 1, 1, 1, 1, 1, 2, 3, 3, 3), (1, 1, 1, 1, 1, 1, 3, 3, 3, 3), (1, 1, 1, 1, 1, 2, 2, 2, 2, 2), (1, 1, 1, 1, 1, 2, 2, 2, 2, 3), (1, 1, 1, 1, 1, 2, 2, 2, 3, 3), (1, 1, 1, 1, 1, 2, 2, 3, 3, 3), (1, 1, 1, 1, 1, 2, 3, 3, 3, 3), (1, 1, 1, 1, 1, 3, 3, 3, 3, 3), (1, 1, 1, 1, 2, 2, 2, 2, 2, 2), (1, 1, 1, 1, 2, 2, 2, 2, 2, 3), (1, 1, 1, 1, 2, 2, 2, 2, 3, 3), (1, 1, 1, 1, 2, 2, 2, 3, 3, 3), (1, 1, 1, 1, 2, 2, 3, 3, 3, 3), (1, 1, 1, 1, 2, 3, 3, 3, 3, 3), (1, 1, 1, 1, 3, 3, 3, 3, 3, 3), (1, 1, 1, 2, 2, 2, 2, 2, 2, 2), (1, 1, 1, 2, 2, 2, 2, 2, 2, 3), (1, 1, 1, 2, 2, 2, 2, 2, 3, 3), (1, 1, 1, 2, 2, 2, 2, 3, 3, 3), (1, 1, 1, 2, 2, 2, 3, 3, 3, 3), (1, 1, 1, 2, 2, 3, 3, 3, 3, 3), (1, 1, 1, 2, 3, 3, 3, 3, 3, 3), (1, 1, 1, 3, 3, 3, 3, 3, 3, 3), (1, 1, 2, 2, 2, 2, 2, 2, 2, 2), (1, 1, 2, 2, 2, 2, 2, 2, 2, 3), (1, 1, 2, 2, 2, 2, 2, 2, 3, 3), (1, 1, 2, 2, 2, 2, 2, 3, 3, 3), (1, 1, 2, 2, 2, 2, 3, 3, 3, 3), (1, 1, 2, 2, 2, 3, 3, 3, 3, 3), (1, 1, 2, 2, 3, 3, 3, 3, 3, 3), (1, 1, 2, 3, 3, 3, 3, 3, 3, 3), (1, 1, 3, 3, 3, 3, 3, 3, 3, 3), (1, 2, 2, 2, 2, 2, 2, 2, 2, 2), (1, 2, 2, 2, 2, 2, 2, 2, 2, 3), (1, 2, 2, 2, 2, 2, 2, 2, 3, 3), (1, 2, 2, 2, 2, 2, 2, 3, 3, 3), (1, 2, 2, 2, 2, 2, 3, 3, 3, 3), (1, 2, 2, 2, 2, 3, 3, 3, 3, 3), (1, 2, 2, 2, 3, 3, 3, 3, 3, 3), (1, 2, 2, 3, 3, 3, 3, 3, 3, 3), (1, 2, 3, 3, 3, 3, 3, 3, 3, 3), (1, 3, 3, 3, 3, 3, 3, 3, 3, 3), (2, 2, 2, 2, 2, 2, 2, 2, 2, 2), (2, 2, 2, 2, 2, 2, 2, 2, 2, 3), (2, 2, 2, 2, 2, 2, 2, 2, 3, 3), (2, 2, 2, 2, 2, 2, 2, 3, 3, 3), (2, 2, 2, 2, 2, 2, 3, 3, 3, 3), (2, 2, 2, 2, 2, 3, 3, 3, 3, 3), (2, 2, 2, 2, 3, 3, 3, 3, 3, 3), (2, 2, 2, 3, 3, 3, 3, 3, 3, 3), (2, 2, 3, 3, 3, 3, 3, 3, 3, 3), (2, 3, 3, 3, 3, 3, 3, 3, 3, 3), (3, 3, 3, 3, 3, 3, 3, 3, 3, 3)]\n"
          ]
        }
      ]
    },
    {
      "cell_type": "markdown",
      "metadata": {
        "id": "oDxxYA3VpyTj"
      },
      "source": [
        "Let's write down the Bionomial Theorem:\n",
        "\n",
        "$$\n",
        "\\left(x+y\\right)^9 = \\sum_{n = 0}^9\\binom 9 n x^ny^{9-n}\n",
        "$$\n",
        "\n",
        "Given in question, we have \n",
        "\n",
        "$$\n",
        "\\left(x+2\\right)^9 = \\sum_{n = 0}^9\\binom 9 n x^n2^{9-n}\n",
        "$$\n",
        "\n",
        "and for cofficient of 5 we need to find when $n=5$\n",
        "####And, in this case the term 5 being position r+1 of the binomial expansion"
      ]
    },
    {
      "cell_type": "code",
      "metadata": {
        "id": "vToMKkzQpu0Z",
        "colab": {
          "base_uri": "https://localhost:8080/"
        },
        "outputId": "ae3634d1-340a-4953-99b5-cff2727598a2"
      },
      "source": [
        "n=9\n",
        "r=4 #where Term 5 is in position of r+1:\n",
        "my_func = (math.factorial(n)/(math.factorial(n-r)*math.factorial(r))*pow(2,r))\n",
        "my_func"
      ],
      "execution_count": 84,
      "outputs": [
        {
          "output_type": "execute_result",
          "data": {
            "text/plain": [
              "2016.0"
            ]
          },
          "metadata": {},
          "execution_count": 84
        }
      ]
    }
  ]
}