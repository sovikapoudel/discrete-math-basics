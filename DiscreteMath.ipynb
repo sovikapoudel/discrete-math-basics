{
  "nbformat": 4,
  "nbformat_minor": 0,
  "metadata": {
    "colab": {
      "name": "DiscreteMath.ipynb",
      "provenance": [],
      "collapsed_sections": [],
      "authorship_tag": "ABX9TyPh1SDtDdgLBZAi0ADEVGI+",
      "include_colab_link": true
    },
    "kernelspec": {
      "name": "python3",
      "display_name": "Python 3"
    },
    "language_info": {
      "name": "python"
    }
  },
  "cells": [
    {
      "cell_type": "markdown",
      "metadata": {
        "id": "view-in-github",
        "colab_type": "text"
      },
      "source": [
        "<a href=\"https://colab.research.google.com/github/sovikapoudel/discrete-math-basics/blob/main/DiscreteMath.ipynb\" target=\"_parent\"><img src=\"https://colab.research.google.com/assets/colab-badge.svg\" alt=\"Open In Colab\"/></a>"
      ]
    },
    {
      "cell_type": "markdown",
      "metadata": {
        "id": "kMaAXqWxZSco"
      },
      "source": [
        "#       ** Project Part 1-CPSMA 3133**\n",
        "\n",
        "---\n",
        "\n",
        "\n",
        "\n",
        "## Author: Sovika Poudel\n",
        "##Title: Discrete Mathematics Project, Fall 2021 \n",
        "##Projects on Sets, Relations and Functions\n",
        "##Instrutor: Dr. Nicolos Jacob\n",
        "###*Note: to get all the code working, it must be run sequentially* "
      ]
    },
    {
      "cell_type": "markdown",
      "metadata": {
        "id": "GVz4_UiQAIRQ"
      },
      "source": [
        "##Importing a library\n",
        "###It is always a good practice to import a library at the top of the code so that it's easier to track what is being used in the file."
      ]
    },
    {
      "cell_type": "code",
      "metadata": {
        "id": "GkwaNBFN-2YG"
      },
      "source": [
        "import math \n",
        "import numpy as np \n",
        "import matplotlib.pyplot as plt"
      ],
      "execution_count": null,
      "outputs": []
    },
    {
      "cell_type": "markdown",
      "metadata": {
        "id": "bRozq6Hp-G2H"
      },
      "source": [
        "### We are now creating different sets containing at least 5 elements\n"
      ]
    },
    {
      "cell_type": "code",
      "metadata": {
        "id": "vE5EUrIcMcdP"
      },
      "source": [
        "#creating various sets\n",
        "U = {1,2,3,4,5,6,7,8,9,10,11,12} #universal set containing all the other sets within.\n",
        "A = {1,2,3,5,7,9} \n",
        "B = {2,4,6,8,10}\n",
        "C = {2,3,5,7,11}\n"
      ],
      "execution_count": null,
      "outputs": []
    },
    {
      "cell_type": "markdown",
      "metadata": {
        "id": "zO8nslYV_qBT"
      },
      "source": [
        "### Finding the union set in which the output must include all the elememts from set A and B with no duplicates"
      ]
    },
    {
      "cell_type": "code",
      "metadata": {
        "colab": {
          "base_uri": "https://localhost:8080/"
        },
        "id": "mEF9NIi60Q0a",
        "outputId": "82cbec9e-6c0c-4fe3-95d9-0de74d147f5a"
      },
      "source": [
        "AUB = []\n",
        "for characters in A:\n",
        "  AUB.append(characters) # append function adds all characters from B\n",
        "for characters in B:\n",
        "  AUB.append(characters) # append function adds all characters from B\n",
        "\n",
        "AUB = set(AUB) #output includes all the elememts from set A and B but no duplicates\n",
        "\n",
        "AUB "
      ],
      "execution_count": null,
      "outputs": [
        {
          "output_type": "execute_result",
          "data": {
            "text/plain": [
              "{1, 2, 3, 4, 5, 6, 7, 8, 9, 10}"
            ]
          },
          "metadata": {},
          "execution_count": 193
        }
      ]
    },
    {
      "cell_type": "code",
      "metadata": {
        "colab": {
          "base_uri": "https://localhost:8080/"
        },
        "id": "_pyZ8SFz-Xtg",
        "outputId": "e02bba01-7f04-4a71-be72-43e544537c68"
      },
      "source": [
        "BUC = []\n",
        "for characters in B:\n",
        "  BUC.append(characters) # append function adds all characters from B\n",
        "for characters in C:\n",
        "  BUC.append(characters) # append function adds all characters from B\n",
        "\n",
        "BUC = set(BUC) #output includes all the elememts from set A and B but no duplicates\n",
        "\n",
        "BUC"
      ],
      "execution_count": null,
      "outputs": [
        {
          "output_type": "execute_result",
          "data": {
            "text/plain": [
              "{2, 3, 4, 5, 6, 7, 8, 10, 11}"
            ]
          },
          "metadata": {},
          "execution_count": 194
        }
      ]
    },
    {
      "cell_type": "code",
      "metadata": {
        "colab": {
          "base_uri": "https://localhost:8080/"
        },
        "id": "sknEhhjd-fod",
        "outputId": "67bd2f02-3f81-4a13-aaf0-09bb3e5149a2"
      },
      "source": [
        "AUC= []\n",
        "for characters in A:\n",
        "  AUC.append(characters) # append function adds all characters from B\n",
        "for characters in C:\n",
        "  AUC.append(characters) # append function adds all characters from B\n",
        "\n",
        "AUC = set(AUC) #output includes all the elememts from set A and B but no duplicates\n",
        "\n",
        "AUC "
      ],
      "execution_count": null,
      "outputs": [
        {
          "output_type": "execute_result",
          "data": {
            "text/plain": [
              "{1, 2, 3, 5, 7, 9, 11}"
            ]
          },
          "metadata": {},
          "execution_count": 195
        }
      ]
    },
    {
      "cell_type": "markdown",
      "metadata": {
        "id": "9Xo85r8p-0Mx"
      },
      "source": [
        "\n",
        "\n",
        "---\n",
        "\n"
      ]
    },
    {
      "cell_type": "markdown",
      "metadata": {
        "id": "i2of3s0o-doO"
      },
      "source": [
        "### Now, we are using a in-built function to find the intersection sets, which means the output must be the commom element from different sets"
      ]
    },
    {
      "cell_type": "code",
      "metadata": {
        "colab": {
          "base_uri": "https://localhost:8080/"
        },
        "id": "el-hF-Js52Vu",
        "outputId": "caa6b654-de7b-4d7f-d22b-867a52e7b81c"
      },
      "source": [
        "print(A.intersection(B)) "
      ],
      "execution_count": null,
      "outputs": [
        {
          "output_type": "stream",
          "name": "stdout",
          "text": [
            "{2}\n"
          ]
        }
      ]
    },
    {
      "cell_type": "code",
      "metadata": {
        "colab": {
          "base_uri": "https://localhost:8080/"
        },
        "id": "E7C7JqvE6zv-",
        "outputId": "1a0ea70d-d0da-4ecb-cb08-e8da7d8fb0e4"
      },
      "source": [
        "print(A.intersection(C))"
      ],
      "execution_count": null,
      "outputs": [
        {
          "output_type": "stream",
          "name": "stdout",
          "text": [
            "{2, 3, 5, 7}\n"
          ]
        }
      ]
    },
    {
      "cell_type": "code",
      "metadata": {
        "colab": {
          "base_uri": "https://localhost:8080/"
        },
        "id": "aPxoWdjF63_6",
        "outputId": "536b650b-0e36-4b5d-aa86-5ed86cba0fcc"
      },
      "source": [
        "print(B.intersection(C)) "
      ],
      "execution_count": null,
      "outputs": [
        {
          "output_type": "stream",
          "name": "stdout",
          "text": [
            "{2}\n"
          ]
        }
      ]
    },
    {
      "cell_type": "markdown",
      "metadata": {
        "id": "KXWJ6wNY_E_T"
      },
      "source": [
        "The other way to find the intesection is by creating your own function"
      ]
    },
    {
      "cell_type": "code",
      "metadata": {
        "colab": {
          "base_uri": "https://localhost:8080/"
        },
        "id": "rG0tRNkbB96i",
        "outputId": "dc5aa8f9-8a49-49ba-af2c-ef96ce622e81"
      },
      "source": [
        "IntersectionAB = []#defining a function.\n",
        "for a in A:\n",
        "  if a in B:\n",
        "    IntersectionAB.append(a)\n",
        "IntersectionAB "
      ],
      "execution_count": null,
      "outputs": [
        {
          "output_type": "execute_result",
          "data": {
            "text/plain": [
              "[2]"
            ]
          },
          "metadata": {},
          "execution_count": 199
        }
      ]
    },
    {
      "cell_type": "markdown",
      "metadata": {
        "id": "13YYwmGH_Nem"
      },
      "source": [
        "\n",
        "\n",
        "---\n",
        "\n"
      ]
    },
    {
      "cell_type": "markdown",
      "metadata": {
        "id": "YjrGjHxoAi2R"
      },
      "source": [
        "###Creating a function named \"complement\" with a single parameter"
      ]
    },
    {
      "cell_type": "code",
      "metadata": {
        "id": "Ovn9ffqR7eT_"
      },
      "source": [
        "def complement(x): \n",
        "    # complement gives a difference between a global universal set U and the given set a\n",
        "    return U - x\n"
      ],
      "execution_count": null,
      "outputs": []
    },
    {
      "cell_type": "code",
      "metadata": {
        "colab": {
          "base_uri": "https://localhost:8080/"
        },
        "id": "zfknEk_q27x9",
        "outputId": "8a4b73bd-f4fe-4382-ea70-27969226f8b8"
      },
      "source": [
        "complement(A)"
      ],
      "execution_count": null,
      "outputs": [
        {
          "output_type": "execute_result",
          "data": {
            "text/plain": [
              "{4, 6, 8, 10, 11, 12}"
            ]
          },
          "metadata": {},
          "execution_count": 201
        }
      ]
    },
    {
      "cell_type": "code",
      "metadata": {
        "colab": {
          "base_uri": "https://localhost:8080/"
        },
        "id": "x70g71Ai7vMo",
        "outputId": "8dedc0b6-4e9a-48a4-ab01-91c3668fd5d1"
      },
      "source": [
        "complement(B)"
      ],
      "execution_count": null,
      "outputs": [
        {
          "output_type": "execute_result",
          "data": {
            "text/plain": [
              "{1, 3, 5, 7, 9, 11, 12}"
            ]
          },
          "metadata": {},
          "execution_count": 202
        }
      ]
    },
    {
      "cell_type": "code",
      "metadata": {
        "colab": {
          "base_uri": "https://localhost:8080/"
        },
        "id": "err8rA6G9vL3",
        "outputId": "6e16bac2-f96a-4bd2-8788-bffdfa3f018d"
      },
      "source": [
        "complement(C)"
      ],
      "execution_count": null,
      "outputs": [
        {
          "output_type": "execute_result",
          "data": {
            "text/plain": [
              "{1, 4, 6, 8, 9, 10, 12}"
            ]
          },
          "metadata": {},
          "execution_count": 203
        }
      ]
    },
    {
      "cell_type": "code",
      "metadata": {
        "colab": {
          "base_uri": "https://localhost:8080/"
        },
        "id": "VHb1fwPK9zMo",
        "outputId": "d52f5265-48f4-4bd2-8c61-5c665c026af0"
      },
      "source": [
        "complement(AUB)\n"
      ],
      "execution_count": null,
      "outputs": [
        {
          "output_type": "execute_result",
          "data": {
            "text/plain": [
              "{11, 12}"
            ]
          },
          "metadata": {},
          "execution_count": 204
        }
      ]
    },
    {
      "cell_type": "code",
      "metadata": {
        "id": "bNzyd0ZK-Jpk",
        "colab": {
          "base_uri": "https://localhost:8080/"
        },
        "outputId": "4b67a8cd-15cc-43ed-90fe-3d1e97375959"
      },
      "source": [
        "complement(AUC)"
      ],
      "execution_count": null,
      "outputs": [
        {
          "output_type": "execute_result",
          "data": {
            "text/plain": [
              "{4, 6, 8, 10, 12}"
            ]
          },
          "metadata": {},
          "execution_count": 205
        }
      ]
    },
    {
      "cell_type": "code",
      "metadata": {
        "colab": {
          "base_uri": "https://localhost:8080/"
        },
        "id": "WFfpPWmF-MLD",
        "outputId": "74cd2a46-35af-4c35-a384-c24012d11372"
      },
      "source": [
        "complement(BUC)"
      ],
      "execution_count": null,
      "outputs": [
        {
          "output_type": "execute_result",
          "data": {
            "text/plain": [
              "{1, 9, 12}"
            ]
          },
          "metadata": {},
          "execution_count": 206
        }
      ]
    },
    {
      "cell_type": "code",
      "metadata": {
        "colab": {
          "base_uri": "https://localhost:8080/"
        },
        "id": "XFUsa02B92Xe",
        "outputId": "3594d9a7-f616-4121-92ec-d7797f4138f1"
      },
      "source": [
        "complement(A.intersection(B))"
      ],
      "execution_count": null,
      "outputs": [
        {
          "output_type": "execute_result",
          "data": {
            "text/plain": [
              "{1, 3, 4, 5, 6, 7, 8, 9, 10, 11, 12}"
            ]
          },
          "metadata": {},
          "execution_count": 207
        }
      ]
    },
    {
      "cell_type": "code",
      "metadata": {
        "id": "vwgcbnw6-BVp",
        "colab": {
          "base_uri": "https://localhost:8080/"
        },
        "outputId": "907c250e-1fe5-4e9c-b9d4-76f0d4db7d73"
      },
      "source": [
        "complement(A.intersection(C))"
      ],
      "execution_count": null,
      "outputs": [
        {
          "output_type": "execute_result",
          "data": {
            "text/plain": [
              "{1, 4, 6, 8, 9, 10, 11, 12}"
            ]
          },
          "metadata": {},
          "execution_count": 208
        }
      ]
    },
    {
      "cell_type": "markdown",
      "metadata": {
        "id": "jsiFkHSKA38T"
      },
      "source": [
        "###Subsets : Set of sets"
      ]
    },
    {
      "cell_type": "code",
      "metadata": {
        "id": "h4n1G3Qn3DNN",
        "colab": {
          "base_uri": "https://localhost:8080/"
        },
        "outputId": "2e59234e-25ed-488b-990f-928c3a8e0425"
      },
      "source": [
        "#finding the subsets\n",
        "\n",
        "A.issubset(B) #this will check if the set A is the Subset of Set B\n"
      ],
      "execution_count": null,
      "outputs": [
        {
          "output_type": "execute_result",
          "data": {
            "text/plain": [
              "False"
            ]
          },
          "metadata": {},
          "execution_count": 209
        }
      ]
    },
    {
      "cell_type": "code",
      "metadata": {
        "colab": {
          "base_uri": "https://localhost:8080/"
        },
        "id": "SFQDX8kw4qoc",
        "outputId": "d969ff70-691d-4f1a-b860-d3c77e6d96ac"
      },
      "source": [
        "B.issubset(C)#this will check if the set B is the Subset of Set C"
      ],
      "execution_count": null,
      "outputs": [
        {
          "output_type": "execute_result",
          "data": {
            "text/plain": [
              "False"
            ]
          },
          "metadata": {},
          "execution_count": 210
        }
      ]
    },
    {
      "cell_type": "code",
      "metadata": {
        "colab": {
          "base_uri": "https://localhost:8080/"
        },
        "id": "AJ0b0RfA4tfm",
        "outputId": "b4d1ab86-953c-4cf8-cea8-b72d392ae8f7"
      },
      "source": [
        "A.issubset(C)#this will check if the set A is the Subset of Set C"
      ],
      "execution_count": null,
      "outputs": [
        {
          "output_type": "execute_result",
          "data": {
            "text/plain": [
              "False"
            ]
          },
          "metadata": {},
          "execution_count": 211
        }
      ]
    },
    {
      "cell_type": "code",
      "metadata": {
        "colab": {
          "base_uri": "https://localhost:8080/"
        },
        "id": "QkQrG0Hq4wgP",
        "outputId": "9cb8124d-e787-4391-ece6-6ffb1776c58c"
      },
      "source": [
        "C.issubset(B)#this will check if the set C is the Subset of Set B"
      ],
      "execution_count": null,
      "outputs": [
        {
          "output_type": "execute_result",
          "data": {
            "text/plain": [
              "False"
            ]
          },
          "metadata": {},
          "execution_count": 212
        }
      ]
    },
    {
      "cell_type": "code",
      "metadata": {
        "colab": {
          "base_uri": "https://localhost:8080/"
        },
        "id": "mRJOR2Ha5CMU",
        "outputId": "172278ed-fdf5-453f-b7d8-e343a39aa8dd"
      },
      "source": [
        "D={1,2,3} #creating a set to see if the built-in function works or not if there's a subset. Is yes then the output must be true.\n",
        "D.issubset(A)"
      ],
      "execution_count": null,
      "outputs": [
        {
          "output_type": "execute_result",
          "data": {
            "text/plain": [
              "True"
            ]
          },
          "metadata": {},
          "execution_count": 213
        }
      ]
    },
    {
      "cell_type": "markdown",
      "metadata": {
        "id": "UHkO-p9PBF-O"
      },
      "source": [
        "###Power Set: A set of all Subsets"
      ]
    },
    {
      "cell_type": "code",
      "metadata": {
        "id": "LiRXQK6j7XFN"
      },
      "source": [
        "#creating a function to generate the powerset\n",
        "def powersets(set): \n",
        "  listset = list(set)\n",
        "  n = len(listset)\n",
        "  return [[listset[k] for k in range(n) if i&1<<k] for i in range(2**n)] #using a nested for loop to define the function\n"
      ],
      "execution_count": null,
      "outputs": []
    },
    {
      "cell_type": "code",
      "metadata": {
        "colab": {
          "base_uri": "https://localhost:8080/"
        },
        "id": "eZA0R0hR9e4X",
        "outputId": "1fad36e5-d4d2-4ab0-b4c4-fdd9009bd70c"
      },
      "source": [
        "print(powersets(A))"
      ],
      "execution_count": null,
      "outputs": [
        {
          "output_type": "stream",
          "name": "stdout",
          "text": [
            "[[], [1], [2], [1, 2], [3], [1, 3], [2, 3], [1, 2, 3], [5], [1, 5], [2, 5], [1, 2, 5], [3, 5], [1, 3, 5], [2, 3, 5], [1, 2, 3, 5], [7], [1, 7], [2, 7], [1, 2, 7], [3, 7], [1, 3, 7], [2, 3, 7], [1, 2, 3, 7], [5, 7], [1, 5, 7], [2, 5, 7], [1, 2, 5, 7], [3, 5, 7], [1, 3, 5, 7], [2, 3, 5, 7], [1, 2, 3, 5, 7], [9], [1, 9], [2, 9], [1, 2, 9], [3, 9], [1, 3, 9], [2, 3, 9], [1, 2, 3, 9], [5, 9], [1, 5, 9], [2, 5, 9], [1, 2, 5, 9], [3, 5, 9], [1, 3, 5, 9], [2, 3, 5, 9], [1, 2, 3, 5, 9], [7, 9], [1, 7, 9], [2, 7, 9], [1, 2, 7, 9], [3, 7, 9], [1, 3, 7, 9], [2, 3, 7, 9], [1, 2, 3, 7, 9], [5, 7, 9], [1, 5, 7, 9], [2, 5, 7, 9], [1, 2, 5, 7, 9], [3, 5, 7, 9], [1, 3, 5, 7, 9], [2, 3, 5, 7, 9], [1, 2, 3, 5, 7, 9]]\n"
          ]
        }
      ]
    },
    {
      "cell_type": "code",
      "metadata": {
        "colab": {
          "base_uri": "https://localhost:8080/"
        },
        "id": "rpYjcni7AuaH",
        "outputId": "4416d967-56fc-4cc1-b8f7-6bfedb2d1b16"
      },
      "source": [
        "print(powersets(B))"
      ],
      "execution_count": null,
      "outputs": [
        {
          "output_type": "stream",
          "name": "stdout",
          "text": [
            "[[], [2], [4], [2, 4], [6], [2, 6], [4, 6], [2, 4, 6], [8], [2, 8], [4, 8], [2, 4, 8], [6, 8], [2, 6, 8], [4, 6, 8], [2, 4, 6, 8], [10], [2, 10], [4, 10], [2, 4, 10], [6, 10], [2, 6, 10], [4, 6, 10], [2, 4, 6, 10], [8, 10], [2, 8, 10], [4, 8, 10], [2, 4, 8, 10], [6, 8, 10], [2, 6, 8, 10], [4, 6, 8, 10], [2, 4, 6, 8, 10]]\n"
          ]
        }
      ]
    },
    {
      "cell_type": "code",
      "metadata": {
        "colab": {
          "base_uri": "https://localhost:8080/"
        },
        "id": "IZQ-JKHOAw2N",
        "outputId": "e40978ca-1029-4819-ad37-a4b1e316c530"
      },
      "source": [
        "print(powersets(C))"
      ],
      "execution_count": null,
      "outputs": [
        {
          "output_type": "stream",
          "name": "stdout",
          "text": [
            "[[], [2], [3], [2, 3], [5], [2, 5], [3, 5], [2, 3, 5], [7], [2, 7], [3, 7], [2, 3, 7], [5, 7], [2, 5, 7], [3, 5, 7], [2, 3, 5, 7], [11], [2, 11], [3, 11], [2, 3, 11], [5, 11], [2, 5, 11], [3, 5, 11], [2, 3, 5, 11], [7, 11], [2, 7, 11], [3, 7, 11], [2, 3, 7, 11], [5, 7, 11], [2, 5, 7, 11], [3, 5, 7, 11], [2, 3, 5, 7, 11]]\n"
          ]
        }
      ]
    },
    {
      "cell_type": "code",
      "metadata": {
        "colab": {
          "base_uri": "https://localhost:8080/"
        },
        "id": "4gBhRHmBAxfc",
        "outputId": "fe65329d-8ea6-460c-fb55-975c61d5b2b5"
      },
      "source": [
        "print(powersets(C))"
      ],
      "execution_count": null,
      "outputs": [
        {
          "output_type": "stream",
          "name": "stdout",
          "text": [
            "[[], [2], [3], [2, 3], [5], [2, 5], [3, 5], [2, 3, 5], [7], [2, 7], [3, 7], [2, 3, 7], [5, 7], [2, 5, 7], [3, 5, 7], [2, 3, 5, 7], [11], [2, 11], [3, 11], [2, 3, 11], [5, 11], [2, 5, 11], [3, 5, 11], [2, 3, 5, 11], [7, 11], [2, 7, 11], [3, 7, 11], [2, 3, 7, 11], [5, 7, 11], [2, 5, 7, 11], [3, 5, 7, 11], [2, 3, 5, 7, 11]]\n"
          ]
        }
      ]
    },
    {
      "cell_type": "markdown",
      "metadata": {
        "id": "s-jBrJ4qBT4E"
      },
      "source": [
        "###Finding the total number of elements in the powerset of U would be, using a formula $2^s: s$ being a number of elements in set U\n"
      ]
    },
    {
      "cell_type": "code",
      "metadata": {
        "colab": {
          "base_uri": "https://localhost:8080/"
        },
        "id": "6eeHouPBUMb3",
        "outputId": "0e9f59f8-3838-4121-9614-083e5fcf8f70"
      },
      "source": [
        "2**len(U)"
      ],
      "execution_count": null,
      "outputs": [
        {
          "output_type": "execute_result",
          "data": {
            "text/plain": [
              "4096"
            ]
          },
          "metadata": {},
          "execution_count": 219
        }
      ]
    },
    {
      "cell_type": "markdown",
      "metadata": {
        "id": "cK-flBB8BcVm"
      },
      "source": [
        "###Function"
      ]
    },
    {
      "cell_type": "code",
      "metadata": {
        "id": "K9R5EjHfiAX3"
      },
      "source": [
        "def My_fun(arg1): #creating a function\n",
        "  total = 2*arg1 **2+1\n",
        "  return total\n"
      ],
      "execution_count": null,
      "outputs": []
    },
    {
      "cell_type": "code",
      "metadata": {
        "colab": {
          "base_uri": "https://localhost:8080/"
        },
        "id": "2u4OOOgCiKxn",
        "outputId": "a1ada2e6-6cbf-4d2d-8217-9339f8fa1b6d"
      },
      "source": [
        "My_fun(-8)"
      ],
      "execution_count": null,
      "outputs": [
        {
          "output_type": "execute_result",
          "data": {
            "text/plain": [
              "129"
            ]
          },
          "metadata": {},
          "execution_count": 221
        }
      ]
    },
    {
      "cell_type": "markdown",
      "metadata": {
        "id": "H5xbFs60mJG6"
      },
      "source": [
        "Example: $f(x)=2x^2+1$ is not one to one because if f(x)=4, then x could still be -2 or +2. So, x has 2 values however, it could be onto if f:$R\\to$[0, $\\infty$). And since it is not one to one, this fuction is not bijective.\n",
        "\n",
        "Also, f(x)=mx+c where c is any constant,and this function is one to one since the co-domain is mappedd to only one domain. However, this funtion is onto for \n",
        "$f: R\\to R $\n"
      ]
    },
    {
      "cell_type": "markdown",
      "metadata": {
        "id": "rSyUEUrJxQru"
      },
      "source": [
        "####Now plotting a graph for $2x^2+1$"
      ]
    },
    {
      "cell_type": "markdown",
      "metadata": {
        "id": "akuZ53yQkLmR"
      },
      "source": [
        "###Plotting graph is giving me error sometimes even everything seems working,  but then it work without changing/updating code anything.\n",
        "####I am not being able to find out why. So, if it does that again, refresh and run the library and the this code it should work well."
      ]
    },
    {
      "cell_type": "code",
      "metadata": {
        "id": "Vfg65zntnMSi",
        "colab": {
          "base_uri": "https://localhost:8080/",
          "height": 265
        },
        "outputId": "5b58338d-76ab-4678-edd8-4b602f7ff532"
      },
      "source": [
        "\n",
        "x = np.arange(-100,100,1)\n",
        "y = 2*x**2+1\n",
        "# ploting function\n",
        "plt.plot(x,My_fun(x), 'g') #'g'gives you green color, change it to r and it gives red graph.\n",
        "\n",
        "# show the plot\n",
        "plt.show()\n"
      ],
      "execution_count": null,
      "outputs": [
        {
          "output_type": "display_data",
          "data": {
            "image/png": "[encoded data removed]",
            "text/plain": [
              "<Figure size 432x288 with 1 Axes>"
            ]
          },
          "metadata": {
            "needs_background": "light"
          }
        }
      ]
    },
    {
      "cell_type": "markdown",
      "metadata": {
        "id": "kXzjAq2ZtvrV"
      },
      "source": [
        "###Now, getting the inverse function. We know the inverse function of$f(x)=2x^2+1$ is\n",
        "$$ x = \\sqrt\\frac{x-1}{2}, -\\sqrt\\frac{x-1}{2} $$"
      ]
    },
    {
      "cell_type": "code",
      "metadata": {
        "id": "6M7eG0CgGPs4"
      },
      "source": [
        ""
      ],
      "execution_count": null,
      "outputs": []
    },
    {
      "cell_type": "code",
      "metadata": {
        "id": "2OKkE4fWyE0L"
      },
      "source": [
        "def My_invfun(x):\n",
        "  return np.sqrt((x-1)/2)"
      ],
      "execution_count": null,
      "outputs": []
    },
    {
      "cell_type": "code",
      "metadata": {
        "colab": {
          "base_uri": "https://localhost:8080/",
          "height": 323
        },
        "id": "l7c48BY9x5cn",
        "outputId": "a99a6d3f-142b-4b30-ca13-59adb26a8d59"
      },
      "source": [
        "x = np.arange(.1,5,.1)\n",
        "# ploting function\n",
        "plt.plot(x,My_fun(x), 'g') #'g'gives you green color, change it to r and it gives red graph.\n",
        "plt.plot(x,My_invfun(x), 'r')\n",
        "# show the plot\n",
        "plt.xlim(0, 5)\n",
        "plt.ylim(0, 5)\n",
        "plt.show()"
      ],
      "execution_count": null,
      "outputs": [
        {
          "output_type": "stream",
          "name": "stderr",
          "text": [
            "/usr/local/lib/python3.7/dist-packages/ipykernel_launcher.py:2: RuntimeWarning: invalid value encountered in sqrt\n",
            "  \n"
          ]
        },
        {
          "output_type": "display_data",
          "data": {
            "image/png": "[encoded data removed]",
            "text/plain": [
              "<Figure size 432x288 with 1 Axes>"
            ]
          },
          "metadata": {
            "needs_background": "light"
          }
        }
      ]
    },
    {
      "cell_type": "markdown",
      "metadata": {
        "id": "Z7swGfYODhAh"
      },
      "source": [
        "###Dictionary"
      ]
    },
    {
      "cell_type": "markdown",
      "metadata": {
        "id": "LmqlMkgmzbYR"
      },
      "source": [
        "###Defining the dictionary from Set A to Set B from part one"
      ]
    },
    {
      "cell_type": "code",
      "metadata": {
        "id": "KD0u9ycwDkF-"
      },
      "source": [
        "A = [1,2,3,5,7,9] ##same as part one, just copied so it's earier to look up here\n",
        "B = [2,4,6,8,10]\n",
        "C = [2,3,5,7,11]\n",
        "My_Dictionary =  dict({1:4,3:6,9:10})"
      ],
      "execution_count": null,
      "outputs": []
    },
    {
      "cell_type": "code",
      "metadata": {
        "id": "OAD84UbnsSYx"
      },
      "source": [
        "My_newList = [My_Dictionary.get(x,x) for x in A ]"
      ],
      "execution_count": null,
      "outputs": []
    },
    {
      "cell_type": "code",
      "metadata": {
        "colab": {
          "base_uri": "https://localhost:8080/"
        },
        "id": "njoROijYssQg",
        "outputId": "84163458-69b7-46f8-97d9-3f3bf2396960"
      },
      "source": [
        "My_newList # my dictionary is not adding an elements from set B"
      ],
      "execution_count": null,
      "outputs": [
        {
          "output_type": "execute_result",
          "data": {
            "text/plain": [
              "[4, 2, 6, 5, 7, 10]"
            ]
          },
          "metadata": {},
          "execution_count": 250
        }
      ]
    },
    {
      "cell_type": "code",
      "metadata": {
        "id": "uz5UibDl0Oak"
      },
      "source": [
        "My_List2 = [My_Dictionary.get(x,x) for x in C ]"
      ],
      "execution_count": null,
      "outputs": []
    },
    {
      "cell_type": "code",
      "metadata": {
        "colab": {
          "base_uri": "https://localhost:8080/"
        },
        "id": "v_fgDYcj0Un3",
        "outputId": "f3ea7972-a2d3-4ff3-83b1-845cde73a3fc"
      },
      "source": [
        "My_List2"
      ],
      "execution_count": null,
      "outputs": [
        {
          "output_type": "execute_result",
          "data": {
            "text/plain": [
              "[2, 6, 5, 7, 11]"
            ]
          },
          "metadata": {},
          "execution_count": 254
        }
      ]
    },
    {
      "cell_type": "code",
      "metadata": {
        "id": "zebICT3fF2o1"
      },
      "source": [
        ""
      ],
      "execution_count": null,
      "outputs": []
    }
  ]
}