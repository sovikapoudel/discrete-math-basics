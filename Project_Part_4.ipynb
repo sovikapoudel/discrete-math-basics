{
  "nbformat": 4,
  "nbformat_minor": 0,
  "metadata": {
    "colab": {
      "name": "Project-Part-4",
      "provenance": [],
      "collapsed_sections": [],
      "authorship_tag": "ABX9TyNFlZ7owFDzgB6FPaJQQOsQ",
      "include_colab_link": true
    },
    "kernelspec": {
      "name": "python3",
      "display_name": "Python 3"
    },
    "language_info": {
      "name": "python"
    }
  },
  "cells": [
    {
      "cell_type": "markdown",
      "metadata": {
        "id": "view-in-github",
        "colab_type": "text"
      },
      "source": [
        "<a href=\"https://colab.research.google.com/github/sovikapoudel/discrete-math-basics/blob/main/Project_Part_4.ipynb\" target=\"_parent\"><img src=\"https://colab.research.google.com/assets/colab-badge.svg\" alt=\"Open In Colab\"/></a>"
      ]
    },
    {
      "cell_type": "markdown",
      "metadata": {
        "id": "WHjgFbEm_yh_"
      },
      "source": [
        "#       ** Project Part 4-CPSMA 3133**\n",
        "\n",
        "---\n",
        "\n",
        "\n",
        "\n",
        "## Author: Sovika Poudel\n",
        "##Title: Discrete Mathematics Project, Fall 2021 \n",
        "##Projects on proposition and proof\n",
        "##Instrutor: Dr. Nicholas Jacob\n",
        "###*Note: to get all the code working, it must be run sequentially* "
      ]
    },
    {
      "cell_type": "markdown",
      "metadata": {
        "id": "VKECH3alDRRq"
      },
      "source": [
        "In this part of Project I am using three proposition and representing them by G, E, and A respectively."
      ]
    },
    {
      "cell_type": "code",
      "metadata": {
        "id": "SS2CxN8Vd9pp"
      },
      "source": [
        "import pandas as pd\n",
        "import operator"
      ],
      "execution_count": 186,
      "outputs": []
    },
    {
      "cell_type": "code",
      "metadata": {
        "id": "5kemSueSAIAS"
      },
      "source": [
        "GoToGym=True\n",
        "DoLaundryEveryday=False\n",
        "CompleteAssignment=True\n"
      ],
      "execution_count": 187,
      "outputs": []
    },
    {
      "cell_type": "markdown",
      "metadata": {
        "id": "cqBxbXasCB1P"
      },
      "source": [
        "So, let do it for \"not 'CompleteAssignment'\"\n",
        " $$ \\lnot  A$$"
      ]
    },
    {
      "cell_type": "code",
      "metadata": {
        "colab": {
          "base_uri": "https://localhost:8080/"
        },
        "id": "SA9Pd0X_Ab3u",
        "outputId": "9e5e416f-d977-4b4e-cfa5-9132e655a7ef"
      },
      "source": [
        "not(CompleteAssignment)"
      ],
      "execution_count": 188,
      "outputs": [
        {
          "output_type": "execute_result",
          "data": {
            "text/plain": [
              "False"
            ]
          },
          "metadata": {},
          "execution_count": 188
        }
      ]
    },
    {
      "cell_type": "markdown",
      "metadata": {
        "id": "0VyGCTBsSopK"
      },
      "source": [
        "Since A is true statement, $\\lnot  A$  is False"
      ]
    },
    {
      "cell_type": "markdown",
      "metadata": {
        "id": "2Y4WtsbEESh5"
      },
      "source": [
        "You could also use bool function to determine the truth value of the statement"
      ]
    },
    {
      "cell_type": "code",
      "metadata": {
        "colab": {
          "base_uri": "https://localhost:8080/"
        },
        "id": "4ZV4V9BgCWBS",
        "outputId": "534b8974-fb23-4729-9971-fdbf5f185bfc"
      },
      "source": [
        "bool(CompleteAssignment)"
      ],
      "execution_count": 189,
      "outputs": [
        {
          "output_type": "execute_result",
          "data": {
            "text/plain": [
              "True"
            ]
          },
          "metadata": {},
          "execution_count": 189
        }
      ]
    },
    {
      "cell_type": "code",
      "metadata": {
        "colab": {
          "base_uri": "https://localhost:8080/"
        },
        "id": "bKNtRClJEVHC",
        "outputId": "6565e5ed-3081-41d5-8901-b9bb0c273aa3"
      },
      "source": [
        "bool(DoLaundryEveryday)"
      ],
      "execution_count": 190,
      "outputs": [
        {
          "output_type": "execute_result",
          "data": {
            "text/plain": [
              "False"
            ]
          },
          "metadata": {},
          "execution_count": 190
        }
      ]
    },
    {
      "cell_type": "markdown",
      "metadata": {
        "id": "xG_pZDByEd9X"
      },
      "source": [
        "Now, Let's do for and statement \n",
        "$$E \\land G$$"
      ]
    },
    {
      "cell_type": "code",
      "metadata": {
        "colab": {
          "base_uri": "https://localhost:8080/"
        },
        "id": "Uzl0_bgBEZxA",
        "outputId": "633c8b76-99f5-4fde-f2a1-2ccab1d15c2c"
      },
      "source": [
        "DoLaundryEveryday and GoToGym # this must give false since it's taking logical operator 'And' "
      ],
      "execution_count": 191,
      "outputs": [
        {
          "output_type": "execute_result",
          "data": {
            "text/plain": [
              "False"
            ]
          },
          "metadata": {},
          "execution_count": 191
        }
      ]
    },
    {
      "cell_type": "markdown",
      "metadata": {
        "id": "oYJ2yjCoE-56"
      },
      "source": [
        "Let's do the same comparison using 'OR' logical Operator. And we must get 'True' value for this one.\n",
        "$$ A \\lor G$$\n",
        "\n",
        "\n"
      ]
    },
    {
      "cell_type": "code",
      "metadata": {
        "colab": {
          "base_uri": "https://localhost:8080/"
        },
        "id": "3XX7hwk6FJ9O",
        "outputId": "b6d7334f-726a-419a-c971-a4f65d98eb27"
      },
      "source": [
        "CompleteAssignment or GoToGym"
      ],
      "execution_count": 192,
      "outputs": [
        {
          "output_type": "execute_result",
          "data": {
            "text/plain": [
              "True"
            ]
          },
          "metadata": {},
          "execution_count": 192
        }
      ]
    },
    {
      "cell_type": "markdown",
      "metadata": {
        "id": "axdrSytVJPUt"
      },
      "source": [
        "Now let's work for  $$ \\lnot  (A \\lor G)$$\n"
      ]
    },
    {
      "cell_type": "code",
      "metadata": {
        "id": "rOv7xUCDEzxr",
        "colab": {
          "base_uri": "https://localhost:8080/"
        },
        "outputId": "33a3fdef-5134-475c-8941-5bd661073211"
      },
      "source": [
        "not( CompleteAssignment or GoToGym) #this must give false value since not completing assignment is false"
      ],
      "execution_count": 193,
      "outputs": [
        {
          "output_type": "execute_result",
          "data": {
            "text/plain": [
              "False"
            ]
          },
          "metadata": {},
          "execution_count": 193
        }
      ]
    },
    {
      "cell_type": "markdown",
      "metadata": {
        "id": "qoqISDDZLbFx"
      },
      "source": [
        "Lets move on to the implies statement between A and G. So A implies G can be written as \n",
        "$$ A \\Rightarrow G$$"
      ]
    },
    {
      "cell_type": "code",
      "metadata": {
        "colab": {
          "base_uri": "https://localhost:8080/"
        },
        "id": "mQG2zKeeLam9",
        "outputId": "e20830c3-1efa-46ac-e927-cb64396b0846"
      },
      "source": [
        "def implies(G,A):\n",
        "  return not(G) or A\n",
        "print(implies( GoToGym, CompleteAssignment))\n",
        "\n"
      ],
      "execution_count": 194,
      "outputs": [
        {
          "output_type": "stream",
          "name": "stdout",
          "text": [
            "True\n"
          ]
        }
      ]
    },
    {
      "cell_type": "code",
      "metadata": {
        "colab": {
          "base_uri": "https://localhost:8080/",
          "height": 300
        },
        "id": "L9NIgmveH5d0",
        "outputId": "78cd1f6f-27c0-4746-84eb-e01cbe11a0ad"
      },
      "source": [
        "\n",
        "# def implies(G,A):\n",
        "#   return not(G) or A #no need to define the function here since we have already defined in previous step we can just call it at the time of implying it.\n",
        "values = [True,False]\n",
        "TruthTable=[]\n",
        "for A in values:\n",
        "  for G in values:\n",
        "    for E in values: \n",
        "      row =[]\n",
        "      row.append(A)\n",
        "      row.append(G)\n",
        "      row.append(E)\n",
        "      row.append(not(A))\n",
        "      row.append(not (A) or G)\n",
        "      row.append(G and E)\n",
        "      row.append(G or E)\n",
        "      row.append(implies(not(A) or G,G and E))\n",
        "      row.append(operator.xor(A,G))\n",
        "      row.append(not (operator.xor(A,G)))\n",
        "      row.append(implies(not(operator.xor(A,G)), G or E))\n",
        "      TruthTable.append(row) # my truth table is ready now we will give them row and column so that it's easier to study\n",
        "Ttable = pd.DataFrame(TruthTable,columns = ['A','G','E','¬A','¬A∨G','G∧E', 'G∨E','¬A∨G⇒G∧E', 'A ⊕ G','¬(A ⊕ G)', '¬(A ⊕ G)⇒(G∨E)'] )\n",
        "Ttable\n"
      ],
      "execution_count": 195,
      "outputs": [
        {
          "output_type": "execute_result",
          "data": {
            "text/html": [
              "<div>\n",
              "<style scoped>\n",
              "    .dataframe tbody tr th:only-of-type {\n",
              "        vertical-align: middle;\n",
              "    }\n",
              "\n",
              "    .dataframe tbody tr th {\n",
              "        vertical-align: top;\n",
              "    }\n",
              "\n",
              "    .dataframe thead th {\n",
              "        text-align: right;\n",
              "    }\n",
              "</style>\n",
              "<table border=\"1\" class=\"dataframe\">\n",
              "  <thead>\n",
              "    <tr style=\"text-align: right;\">\n",
              "      <th></th>\n",
              "      <th>A</th>\n",
              "      <th>G</th>\n",
              "      <th>E</th>\n",
              "      <th>¬A</th>\n",
              "      <th>¬A∨G</th>\n",
              "      <th>G∧E</th>\n",
              "      <th>G∨E</th>\n",
              "      <th>¬A∨G⇒G∧E</th>\n",
              "      <th>A ⊕ G</th>\n",
              "      <th>¬(A ⊕ G)</th>\n",
              "      <th>¬(A ⊕ G)⇒(G∨E)</th>\n",
              "    </tr>\n",
              "  </thead>\n",
              "  <tbody>\n",
              "    <tr>\n",
              "      <th>0</th>\n",
              "      <td>True</td>\n",
              "      <td>True</td>\n",
              "      <td>True</td>\n",
              "      <td>False</td>\n",
              "      <td>True</td>\n",
              "      <td>True</td>\n",
              "      <td>True</td>\n",
              "      <td>True</td>\n",
              "      <td>False</td>\n",
              "      <td>True</td>\n",
              "      <td>True</td>\n",
              "    </tr>\n",
              "    <tr>\n",
              "      <th>1</th>\n",
              "      <td>True</td>\n",
              "      <td>True</td>\n",
              "      <td>False</td>\n",
              "      <td>False</td>\n",
              "      <td>True</td>\n",
              "      <td>False</td>\n",
              "      <td>True</td>\n",
              "      <td>False</td>\n",
              "      <td>False</td>\n",
              "      <td>True</td>\n",
              "      <td>True</td>\n",
              "    </tr>\n",
              "    <tr>\n",
              "      <th>2</th>\n",
              "      <td>True</td>\n",
              "      <td>False</td>\n",
              "      <td>True</td>\n",
              "      <td>False</td>\n",
              "      <td>False</td>\n",
              "      <td>False</td>\n",
              "      <td>True</td>\n",
              "      <td>True</td>\n",
              "      <td>True</td>\n",
              "      <td>False</td>\n",
              "      <td>True</td>\n",
              "    </tr>\n",
              "    <tr>\n",
              "      <th>3</th>\n",
              "      <td>True</td>\n",
              "      <td>False</td>\n",
              "      <td>False</td>\n",
              "      <td>False</td>\n",
              "      <td>False</td>\n",
              "      <td>False</td>\n",
              "      <td>False</td>\n",
              "      <td>True</td>\n",
              "      <td>True</td>\n",
              "      <td>False</td>\n",
              "      <td>True</td>\n",
              "    </tr>\n",
              "    <tr>\n",
              "      <th>4</th>\n",
              "      <td>False</td>\n",
              "      <td>True</td>\n",
              "      <td>True</td>\n",
              "      <td>True</td>\n",
              "      <td>True</td>\n",
              "      <td>True</td>\n",
              "      <td>True</td>\n",
              "      <td>True</td>\n",
              "      <td>True</td>\n",
              "      <td>False</td>\n",
              "      <td>True</td>\n",
              "    </tr>\n",
              "    <tr>\n",
              "      <th>5</th>\n",
              "      <td>False</td>\n",
              "      <td>True</td>\n",
              "      <td>False</td>\n",
              "      <td>True</td>\n",
              "      <td>True</td>\n",
              "      <td>False</td>\n",
              "      <td>True</td>\n",
              "      <td>False</td>\n",
              "      <td>True</td>\n",
              "      <td>False</td>\n",
              "      <td>True</td>\n",
              "    </tr>\n",
              "    <tr>\n",
              "      <th>6</th>\n",
              "      <td>False</td>\n",
              "      <td>False</td>\n",
              "      <td>True</td>\n",
              "      <td>True</td>\n",
              "      <td>True</td>\n",
              "      <td>False</td>\n",
              "      <td>True</td>\n",
              "      <td>False</td>\n",
              "      <td>False</td>\n",
              "      <td>True</td>\n",
              "      <td>True</td>\n",
              "    </tr>\n",
              "    <tr>\n",
              "      <th>7</th>\n",
              "      <td>False</td>\n",
              "      <td>False</td>\n",
              "      <td>False</td>\n",
              "      <td>True</td>\n",
              "      <td>True</td>\n",
              "      <td>False</td>\n",
              "      <td>False</td>\n",
              "      <td>False</td>\n",
              "      <td>False</td>\n",
              "      <td>True</td>\n",
              "      <td>False</td>\n",
              "    </tr>\n",
              "  </tbody>\n",
              "</table>\n",
              "</div>"
            ],
            "text/plain": [
              "       A      G      E     ¬A  ...  ¬A∨G⇒G∧E  A ⊕ G  ¬(A ⊕ G)  ¬(A ⊕ G)⇒(G∨E)\n",
              "0   True   True   True  False  ...      True  False      True            True\n",
              "1   True   True  False  False  ...     False  False      True            True\n",
              "2   True  False   True  False  ...      True   True     False            True\n",
              "3   True  False  False  False  ...      True   True     False            True\n",
              "4  False   True   True   True  ...      True   True     False            True\n",
              "5  False   True  False   True  ...     False   True     False            True\n",
              "6  False  False   True   True  ...     False  False      True            True\n",
              "7  False  False  False   True  ...     False  False      True           False\n",
              "\n",
              "[8 rows x 11 columns]"
            ]
          },
          "metadata": {},
          "execution_count": 195
        }
      ]
    },
    {
      "cell_type": "markdown",
      "metadata": {
        "id": "buZp38WcbRo5"
      },
      "source": [
        "We got our truth table ready and you can see in the last column for the truth table for ¬ (A ⊕ G ) ⇒ (G ∨ E), which gives only one False at the last which is beacause 'True cannot imply false'."
      ]
    },
    {
      "cell_type": "markdown",
      "metadata": {
        "id": "DcPSy1VjCEcZ"
      },
      "source": [
        "###Proof"
      ]
    },
    {
      "cell_type": "markdown",
      "metadata": {
        "id": "OmMVaoKzezcm"
      },
      "source": [
        "For proof, I am going to create a linear equation $$y=mx+c$$"
      ]
    }
  ]
}