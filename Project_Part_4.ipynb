{
  "nbformat": 4,
  "nbformat_minor": 0,
  "metadata": {
    "colab": {
      "name": "Project-Part-4",
      "provenance": [],
      "collapsed_sections": [],
      "authorship_tag": "ABX9TyNhIW63TJaZHgOayfaJW1Pl",
      "include_colab_link": true
    },
    "kernelspec": {
      "name": "python3",
      "display_name": "Python 3"
    },
    "language_info": {
      "name": "python"
    }
  },
  "cells": [
    {
      "cell_type": "markdown",
      "metadata": {
        "id": "view-in-github",
        "colab_type": "text"
      },
      "source": [
        "<a href=\"https://colab.research.google.com/github/sovikapoudel/discrete-math-basics/blob/main/Project_Part_4.ipynb\" target=\"_parent\"><img src=\"https://colab.research.google.com/assets/colab-badge.svg\" alt=\"Open In Colab\"/></a>"
      ]
    },
    {
      "cell_type": "markdown",
      "metadata": {
        "id": "WHjgFbEm_yh_"
      },
      "source": [
        "#       ** Project Part 4-CPSMA 3133**\n",
        "\n",
        "---\n",
        "\n",
        "\n",
        "\n",
        "## Author: Sovika Poudel\n",
        "##Title: Discrete Mathematics Project, Fall 2021 \n",
        "##Projects on proposition and proof\n",
        "##Instrutor: Dr. Nicholas Jacob\n",
        "###*Note: to get all the code working, it must be run sequentially* "
      ]
    },
    {
      "cell_type": "markdown",
      "metadata": {
        "id": "VKECH3alDRRq"
      },
      "source": [
        "In this part of Project I am using three proposition and representing them by G, E, and A respectively."
      ]
    },
    {
      "cell_type": "code",
      "metadata": {
        "id": "SS2CxN8Vd9pp"
      },
      "source": [
        "import pandas as pd\n",
        "import operator"
      ],
      "execution_count": 27,
      "outputs": []
    },
    {
      "cell_type": "code",
      "metadata": {
        "id": "5kemSueSAIAS"
      },
      "source": [
        "GoToGym=True\n",
        "DoLaundryEveryday=False\n",
        "CompleteAssignment=True\n"
      ],
      "execution_count": 17,
      "outputs": []
    },
    {
      "cell_type": "markdown",
      "metadata": {
        "id": "cqBxbXasCB1P"
      },
      "source": [
        "So, let do it for \"not 'CompleteAssignment'\"\n",
        " $$ \\lnot  A$$"
      ]
    },
    {
      "cell_type": "code",
      "metadata": {
        "colab": {
          "base_uri": "https://localhost:8080/"
        },
        "id": "SA9Pd0X_Ab3u",
        "outputId": "3977ae2d-63a7-4334-ff37-60eb9f5335a2"
      },
      "source": [
        "not(CompleteAssignment)"
      ],
      "execution_count": 18,
      "outputs": [
        {
          "data": {
            "text/plain": [
              "False"
            ]
          },
          "execution_count": null,
          "metadata": {},
          "output_type": "execute_result"
        }
      ]
    },
    {
      "cell_type": "markdown",
      "metadata": {
        "id": "0VyGCTBsSopK"
      },
      "source": [
        "Since A is true statement, $\\lnot  A$  is False"
      ]
    },
    {
      "cell_type": "markdown",
      "metadata": {
        "id": "2Y4WtsbEESh5"
      },
      "source": [
        "You could also use bool function to determine the truth value of the statement"
      ]
    },
    {
      "cell_type": "code",
      "metadata": {
        "colab": {
          "base_uri": "https://localhost:8080/"
        },
        "id": "4ZV4V9BgCWBS",
        "outputId": "2b63496c-ad63-4d13-cf23-c56420853e9a"
      },
      "source": [
        "bool(CompleteAssignment)"
      ],
      "execution_count": 19,
      "outputs": [
        {
          "data": {
            "text/plain": [
              "True"
            ]
          },
          "execution_count": null,
          "metadata": {},
          "output_type": "execute_result"
        }
      ]
    },
    {
      "cell_type": "code",
      "metadata": {
        "colab": {
          "base_uri": "https://localhost:8080/"
        },
        "id": "bKNtRClJEVHC",
        "outputId": "37a64396-7969-437a-e6c9-142362b65eca"
      },
      "source": [
        "bool(DoLaundryEveryday)"
      ],
      "execution_count": 20,
      "outputs": [
        {
          "data": {
            "text/plain": [
              "False"
            ]
          },
          "execution_count": null,
          "metadata": {},
          "output_type": "execute_result"
        }
      ]
    },
    {
      "cell_type": "markdown",
      "metadata": {
        "id": "xG_pZDByEd9X"
      },
      "source": [
        "Now, Let's do for and statement \n",
        "$$E \\land G$$"
      ]
    },
    {
      "cell_type": "code",
      "metadata": {
        "colab": {
          "base_uri": "https://localhost:8080/"
        },
        "id": "Uzl0_bgBEZxA",
        "outputId": "defb3f67-c609-42a1-927a-bae42a8e9821"
      },
      "source": [
        "DoLaundryEveryday and GoToGym # this must give false since it's taking logical operator 'And' "
      ],
      "execution_count": 21,
      "outputs": [
        {
          "data": {
            "text/plain": [
              "False"
            ]
          },
          "execution_count": null,
          "metadata": {},
          "output_type": "execute_result"
        }
      ]
    },
    {
      "cell_type": "markdown",
      "metadata": {
        "id": "oYJ2yjCoE-56"
      },
      "source": [
        "Let's do the same comparison using 'OR' logical Operator. And we must get 'True' value for this one.\n",
        "$$ A \\lor G$$\n",
        "\n",
        "\n"
      ]
    },
    {
      "cell_type": "code",
      "metadata": {
        "colab": {
          "base_uri": "https://localhost:8080/"
        },
        "id": "3XX7hwk6FJ9O",
        "outputId": "695b15dc-12dc-47f6-8a06-59a737ead0f8"
      },
      "source": [
        "CompleteAssignment or GoToGym"
      ],
      "execution_count": 22,
      "outputs": [
        {
          "data": {
            "text/plain": [
              "True"
            ]
          },
          "execution_count": null,
          "metadata": {},
          "output_type": "execute_result"
        }
      ]
    },
    {
      "cell_type": "markdown",
      "metadata": {
        "id": "axdrSytVJPUt"
      },
      "source": [
        "Now let's work for  $$ \\lnot  (A \\lor G)$$\n"
      ]
    },
    {
      "cell_type": "code",
      "metadata": {
        "id": "rOv7xUCDEzxr",
        "colab": {
          "base_uri": "https://localhost:8080/"
        },
        "outputId": "715b0403-478d-45d0-f6f3-790657b320a1"
      },
      "source": [
        "not( CompleteAssignment or GoToGym) #this must give false value since not completing assignment is false"
      ],
      "execution_count": 23,
      "outputs": [
        {
          "data": {
            "text/plain": [
              "False"
            ]
          },
          "execution_count": null,
          "metadata": {},
          "output_type": "execute_result"
        }
      ]
    },
    {
      "cell_type": "markdown",
      "metadata": {
        "id": "qoqISDDZLbFx"
      },
      "source": [
        "Lets move on to the implies statement between A and G. So A implies G can be written as \n",
        "$$ A \\Rightarrow G$$"
      ]
    },
    {
      "cell_type": "code",
      "metadata": {
        "colab": {
          "base_uri": "https://localhost:8080/"
        },
        "id": "mQG2zKeeLam9",
        "outputId": "9feab17b-3c2f-4c4d-c152-e1c58bd985be"
      },
      "source": [
        "def implies(G,A):\n",
        "  return not(G) or A\n",
        "print(implies( GoToGym, CompleteAssignment))\n",
        "\n"
      ],
      "execution_count": 24,
      "outputs": [
        {
          "metadata": {
            "tags": null
          },
          "name": "stdout",
          "output_type": "stream",
          "text": [
            "True\n"
          ]
        }
      ]
    },
    {
      "cell_type": "code",
      "metadata": {
        "colab": {
          "base_uri": "https://localhost:8080/",
          "height": 300
        },
        "id": "L9NIgmveH5d0",
        "outputId": "aebdc502-a320-47ff-c048-0a6594bcc6da"
      },
      "source": [
        "\n",
        "# def implies(G,A):\n",
        "#   return not(G) or A #no need to define the function here since we have already defined in previous step we can just call it at the time of implying it.\n",
        "values = [True,False]\n",
        "TruthTable=[]\n",
        "for A in values:\n",
        "  for G in values:\n",
        "    for E in values: \n",
        "      row =[]\n",
        "      row.append(A)\n",
        "      row.append(G)\n",
        "      row.append(E)\n",
        "      row.append(not(A))\n",
        "      row.append(not (A) or G)\n",
        "      row.append(G and E)\n",
        "      row.append(G or E)\n",
        "      row.append(implies(not(A) or G,G and E))\n",
        "      row.append(operator.xor(A,G))\n",
        "      row.append(not (operator.xor(A,G)))\n",
        "      row.append(implies(not(operator.xor(A,G)), G or E))\n",
        "      TruthTable.append(row) # my truth table is ready now we will give them row and column so that it's easier to study\n",
        "Ttable = pd.DataFrame(TruthTable,columns = ['A','G','E','¬A','¬A∨G','G∧E', 'G∨E','¬A∨G⇒G∧E', 'A ⊕ G','¬(A ⊕ G)', '¬(A ⊕ G)⇒(G∨E)'] )\n",
        "Ttable\n"
      ],
      "execution_count": 25,
      "outputs": [
        {
          "data": {
            "text/html": [
              "<div>\n",
              "<style scoped>\n",
              "    .dataframe tbody tr th:only-of-type {\n",
              "        vertical-align: middle;\n",
              "    }\n",
              "\n",
              "    .dataframe tbody tr th {\n",
              "        vertical-align: top;\n",
              "    }\n",
              "\n",
              "    .dataframe thead th {\n",
              "        text-align: right;\n",
              "    }\n",
              "</style>\n",
              "<table border=\"1\" class=\"dataframe\">\n",
              "  <thead>\n",
              "    <tr style=\"text-align: right;\">\n",
              "      <th></th>\n",
              "      <th>A</th>\n",
              "      <th>G</th>\n",
              "      <th>E</th>\n",
              "      <th>¬A</th>\n",
              "      <th>¬A∨G</th>\n",
              "      <th>G∧E</th>\n",
              "      <th>G∨E</th>\n",
              "      <th>¬A∨G⇒G∧E</th>\n",
              "      <th>A ⊕ G</th>\n",
              "      <th>¬(A ⊕ G)</th>\n",
              "      <th>¬(A ⊕ G)⇒(G∨E)</th>\n",
              "    </tr>\n",
              "  </thead>\n",
              "  <tbody>\n",
              "    <tr>\n",
              "      <th>0</th>\n",
              "      <td>True</td>\n",
              "      <td>True</td>\n",
              "      <td>True</td>\n",
              "      <td>False</td>\n",
              "      <td>True</td>\n",
              "      <td>True</td>\n",
              "      <td>True</td>\n",
              "      <td>True</td>\n",
              "      <td>False</td>\n",
              "      <td>True</td>\n",
              "      <td>True</td>\n",
              "    </tr>\n",
              "    <tr>\n",
              "      <th>1</th>\n",
              "      <td>True</td>\n",
              "      <td>True</td>\n",
              "      <td>False</td>\n",
              "      <td>False</td>\n",
              "      <td>True</td>\n",
              "      <td>False</td>\n",
              "      <td>True</td>\n",
              "      <td>False</td>\n",
              "      <td>False</td>\n",
              "      <td>True</td>\n",
              "      <td>True</td>\n",
              "    </tr>\n",
              "    <tr>\n",
              "      <th>2</th>\n",
              "      <td>True</td>\n",
              "      <td>False</td>\n",
              "      <td>True</td>\n",
              "      <td>False</td>\n",
              "      <td>False</td>\n",
              "      <td>False</td>\n",
              "      <td>True</td>\n",
              "      <td>True</td>\n",
              "      <td>True</td>\n",
              "      <td>False</td>\n",
              "      <td>True</td>\n",
              "    </tr>\n",
              "    <tr>\n",
              "      <th>3</th>\n",
              "      <td>True</td>\n",
              "      <td>False</td>\n",
              "      <td>False</td>\n",
              "      <td>False</td>\n",
              "      <td>False</td>\n",
              "      <td>False</td>\n",
              "      <td>False</td>\n",
              "      <td>True</td>\n",
              "      <td>True</td>\n",
              "      <td>False</td>\n",
              "      <td>True</td>\n",
              "    </tr>\n",
              "    <tr>\n",
              "      <th>4</th>\n",
              "      <td>False</td>\n",
              "      <td>True</td>\n",
              "      <td>True</td>\n",
              "      <td>True</td>\n",
              "      <td>True</td>\n",
              "      <td>True</td>\n",
              "      <td>True</td>\n",
              "      <td>True</td>\n",
              "      <td>True</td>\n",
              "      <td>False</td>\n",
              "      <td>True</td>\n",
              "    </tr>\n",
              "    <tr>\n",
              "      <th>5</th>\n",
              "      <td>False</td>\n",
              "      <td>True</td>\n",
              "      <td>False</td>\n",
              "      <td>True</td>\n",
              "      <td>True</td>\n",
              "      <td>False</td>\n",
              "      <td>True</td>\n",
              "      <td>False</td>\n",
              "      <td>True</td>\n",
              "      <td>False</td>\n",
              "      <td>True</td>\n",
              "    </tr>\n",
              "    <tr>\n",
              "      <th>6</th>\n",
              "      <td>False</td>\n",
              "      <td>False</td>\n",
              "      <td>True</td>\n",
              "      <td>True</td>\n",
              "      <td>True</td>\n",
              "      <td>False</td>\n",
              "      <td>True</td>\n",
              "      <td>False</td>\n",
              "      <td>False</td>\n",
              "      <td>True</td>\n",
              "      <td>True</td>\n",
              "    </tr>\n",
              "    <tr>\n",
              "      <th>7</th>\n",
              "      <td>False</td>\n",
              "      <td>False</td>\n",
              "      <td>False</td>\n",
              "      <td>True</td>\n",
              "      <td>True</td>\n",
              "      <td>False</td>\n",
              "      <td>False</td>\n",
              "      <td>False</td>\n",
              "      <td>False</td>\n",
              "      <td>True</td>\n",
              "      <td>False</td>\n",
              "    </tr>\n",
              "  </tbody>\n",
              "</table>\n",
              "</div>"
            ],
            "text/plain": [
              "       A      G      E     ¬A  ...  ¬A∨G⇒G∧E  A ⊕ G  ¬(A ⊕ G)  ¬(A ⊕ G)⇒(G∨E)\n",
              "0   True   True   True  False  ...      True  False      True            True\n",
              "1   True   True  False  False  ...     False  False      True            True\n",
              "2   True  False   True  False  ...      True   True     False            True\n",
              "3   True  False  False  False  ...      True   True     False            True\n",
              "4  False   True   True   True  ...      True   True     False            True\n",
              "5  False   True  False   True  ...     False   True     False            True\n",
              "6  False  False   True   True  ...     False  False      True            True\n",
              "7  False  False  False   True  ...     False  False      True           False\n",
              "\n",
              "[8 rows x 11 columns]"
            ]
          },
          "execution_count": null,
          "metadata": {},
          "output_type": "execute_result"
        }
      ]
    },
    {
      "cell_type": "markdown",
      "metadata": {
        "id": "buZp38WcbRo5"
      },
      "source": [
        "We got our truth table ready and you can see in the last column for the truth table for ¬ (A ⊕ G ) ⇒ (G ∨ E), which gives only one False at the last which is beacause 'True cannot imply false'."
      ]
    },
    {
      "cell_type": "markdown",
      "metadata": {
        "id": "DcPSy1VjCEcZ"
      },
      "source": [
        "###Proof"
      ]
    },
    {
      "cell_type": "markdown",
      "metadata": {
        "id": "OmMVaoKzezcm"
      },
      "source": [
        "For proof, I am going to create a linear equation $$y=mx+c$$"
      ]
    },
    {
      "cell_type": "markdown",
      "source": [
        "$$ y = mx+c,  m & c >0 $$\n",
        "\n",
        "But first we graph!  Well plot for the above function"
      ],
      "metadata": {
        "id": "H0gMuDME7ISd"
      }
    },
    {
      "cell_type": "code",
      "source": [
        ""
      ],
      "metadata": {
        "id": "xeU6uYXS6loR"
      },
      "execution_count": 25,
      "outputs": []
    },
    {
      "cell_type": "code",
      "source": [
        "import matplotlib.pyplot as plt\n",
        "import numpy as np\n",
        "\n",
        "x = np.arange(-10,10) #first value, last value, stepsize = .1\n",
        "\n",
        "plt.plot(x,x*3+3) #this is when y intercept and slope both are 3.\n",
        "plt.scatter(1,0, c='red',s = 40)#plotting the points too x,y,color,size\n",
        "plt.scatter(-3,0,c='red',s = 40)\n",
        "plt.show()"
      ],
      "metadata": {
        "id": "p_MrgV8rIRBH",
        "outputId": "e98683ff-9374-4ce0-fba2-84c55d95e772",
        "colab": {
          "base_uri": "https://localhost:8080/",
          "height": 265
        }
      },
      "execution_count": 26,
      "outputs": [
        {
          "data": {
            "image/png": "[encoded data removed]",
            "text/plain": [
              "<Figure size 432x288 with 1 Axes>"
            ]
          },
          "metadata": {},
          "output_type": "display_data"
        }
      ]
    },
    {
      "cell_type": "markdown",
      "source": [
        "In the graph, since the slope is posite, i.e 3 the graph is positive as well.\n",
        "\n",
        "###Now for the proof!\n",
        "\n",
        "We will show that (0, b) is the y-intercept for the function y= $mx+c$.  Both of these satisfy this requirement."
      ],
      "metadata": {
        "id": "U7AdDCBYhyfd"
      }
    },
    {
      "cell_type": "markdown",
      "source": [
        "##Challanges:\n",
        "### Part 1 was a fun  to me. Specially the truth table. Part 2, I am able to work on my notebook but because the function has multiple variables I am confused what to assign to which variables to make it work.\n",
        "###As I am not sure what value to put for x and y. So I am leaving this part of project here. and this is the end of my Discrete Math project(FOR NOW) \n",
        "\n",
        "\n",
        "###However, I enjoyed the overall project this course has offered. I have learned alot and this type of project is really helpful for student in their learning phases.\n",
        "##Thank you so much, Dr. Jacob for sharing your knowlegde with us.##"
      ],
      "metadata": {
        "id": "C2pGayeVifOs"
      }
    }
  ]
}